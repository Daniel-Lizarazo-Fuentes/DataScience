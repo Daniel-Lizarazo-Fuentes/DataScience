{
 "cells": [
  {
   "cell_type": "code",
   "execution_count": 1,
   "metadata": {},
   "outputs": [
    {
     "name": "stdout",
     "output_type": "stream",
     "text": [
      "Google Earth Engine has failed to initialize!\n"
     ]
    }
   ],
   "source": [
    "import ee\n",
    "import geemap\n",
    "\n",
    "try:\n",
    "    # Initialize the library.\n",
    "    ee.Initialize()\n",
    "    print('Google Earth Engine has initialized successfully!')\n",
    "except ee.EEException as e:\n",
    "    print('Google Earth Engine has failed to initialize!')\n",
    "except:\n",
    "    print(\"Unexpected error:\", sys.exc_info()[0])\n",
    "    raise"
   ]
  },
  {
   "cell_type": "code",
   "execution_count": 57,
   "metadata": {},
   "outputs": [],
   "source": [
    "region = ee.Geometry.Polygon([\n",
    "  [\n",
    "    [10.7, 50.3],\n",
    "    [10.7, 50.471],\n",
    "    [10.9, 50.471],\n",
    "    [10.9, 50.3],\n",
    "    [10.7, 50.3] \n",
    "  ]\n",
    "])\n",
    "\n"
   ]
  },
  {
   "cell_type": "code",
   "execution_count": 61,
   "metadata": {},
   "outputs": [],
   "source": [
    "def calculate_ndvi(image):\n",
    "    ndvi = image.normalizedDifference(['B8', 'B4']).rename('NDVI')\n",
    "    return image.addBands(ndvi)\n",
    "\n",
    "# Sentinel-2A/B Level-2A NDVI for August 2017\n",
    "sentinel2_2017 = (\n",
    "    ee.ImageCollection('COPERNICUS/S2_SR_HARMONIZED')\n",
    "    .filterBounds(region)\n",
    "    .filterDate('2017-08-01', '2017-08-31')\n",
    "    .filterMetadata('CLOUDY_PIXEL_PERCENTAGE', 'less_than', 10)\n",
    "    .map(calculate_ndvi)\n",
    ")\n",
    "\n",
    "sentinel2_2017_img = sentinel2_2017.median().clip(region)\n",
    "\n",
    "sentinel2_2018 = (\n",
    "    ee.ImageCollection('COPERNICUS/S2_SR_HARMONIZED')\n",
    "    .filterBounds(region)\n",
    "    .filterDate('2018-08-01', '2018-08-31')\n",
    "    .filterMetadata('CLOUDY_PIXEL_PERCENTAGE', 'less_than', 10)\n",
    "    .map(calculate_ndvi)\n",
    ")\n",
    "\n",
    "sentinel2_2018_img = sentinel2_2018.median().clip(region)\n",
    "\n",
    "ndvi_difference = sentinel2_2018_img.select('NDVI').subtract(sentinel2_2017_img.select('NDVI')).rename('NDVI_Difference')\n",
    "\n",
    "# Visualization\n",
    "Map = geemap.Map()\n",
    "Map.centerObject(region, 12)\n",
    "\n",
    "# NDVI Visualization\n",
    "ndvi_vis = {'min': -0.2, 'max': 0.8, 'palette': ['blue', 'white', 'green']}\n",
    "Map.addLayer(sentinel2_2018_img.select('NDVI'), ndvi_vis, 'NDVI 2018')\n",
    "\n",
    "Map.addLayerControl()"
   ]
  },
  {
   "cell_type": "code",
   "execution_count": 43,
   "metadata": {},
   "outputs": [],
   "source": [
    "# sentinel2 = ee.ImageCollection('COPERNICUS/S2_SR_HARMONIZED') \\\n",
    "#     .filterBounds(region) \\\n",
    "#     .filterDate('2018-06-01', '2018-08-30') \\\n",
    "#     .filterMetadata('CLOUDY_PIXEL_PERCENTAGE', 'less_than', 10)\n",
    "\n",
    "# aster = ee.ImageCollection(\"ASTER/AST_L1T_003\") \\\n",
    "#     .filterBounds(region) \\\n",
    "#     .filterDate('2018-06-01', '2018-08-30')"
   ]
  },
  {
   "cell_type": "code",
   "execution_count": 44,
   "metadata": {},
   "outputs": [
    {
     "name": "stdout",
     "output_type": "stream",
     "text": [
      "Number of images in the collection:  18\n",
      "Number of images in the collection:  3\n"
     ]
    }
   ],
   "source": [
    "listOfImages = sentinel2.aggregate_array('system:index').getInfo()\n",
    "print('Number of images in the collection: ', len(listOfImages))\n",
    "\n",
    "listOfImages = aster.aggregate_array('system:index').getInfo()\n",
    "print('Number of images in the collection: ', len(listOfImages))"
   ]
  },
  {
   "cell_type": "code",
   "execution_count": 45,
   "metadata": {},
   "outputs": [],
   "source": [
    "sentinel2_img = sentinel2.mosaic().clip(region)\n",
    "aster_img = aster.mosaic().clip(region)"
   ]
  },
  {
   "cell_type": "code",
   "execution_count": 46,
   "metadata": {},
   "outputs": [],
   "source": [
    "s2_vis = {\n",
    "    'bands': ['B4', 'B3', 'B2'],\n",
    "    'min': 0,\n",
    "    'max': 3000,\n",
    "}\n",
    "\n",
    "aster_vis = {\n",
    "    'bands': ['B02', 'B01'],\n",
    "    'min': 0,\n",
    "    'max': 255\n",
    "}\n"
   ]
  },
  {
   "cell_type": "code",
   "execution_count": 47,
   "metadata": {},
   "outputs": [],
   "source": [
    "def calculate_ndvi(image):\n",
    "    ndvi = image.normalizedDifference(['B8', 'B4']).rename('NDVI')\n",
    "    return image.addBands(ndvi)\n",
    "\n",
    "def calculate_evi(image):\n",
    "    evi = image.expression(\n",
    "        '2.5 * (NIR - RED) / (NIR + 6 * RED - 7.5 * BLUE + 1)', {\n",
    "            'NIR': image.select('B8'),\n",
    "            'RED': image.select('B4'),\n",
    "            'BLUE': image.select('B2')\n",
    "        }\n",
    "    ).rename('EVI')\n",
    "    return image.addBands(evi)"
   ]
  },
  {
   "cell_type": "code",
   "execution_count": 54,
   "metadata": {},
   "outputs": [],
   "source": [
    "sentinel2_img_features = calculate_ndvi(sentinel2_img)\n",
    "sentinel2_img_features = calculate_evi(sentinel2_img_features)\n",
    "\n",
    "feature_bands = ['B2', 'B3', 'B4', 'B8', 'NDVI', 'EVI']\n",
    "feature_image = sentinel2_img_features.select(feature_bands)\n",
    "\n",
    "training_data = feature_image.sample(\n",
    "    region=region,\n",
    "    scale=10,\n",
    "    numPixels=5000,  \n",
    "    geometries=True\n",
    ").randomColumn()\n",
    "\n",
    "clusterer = ee.Clusterer.wekaKMeans(5).train(training_data.select(feature_bands),feature_bands)\n",
    "clustered_image = feature_image.cluster(clusterer).rename('clusters')"
   ]
  },
  {
   "cell_type": "code",
   "execution_count": 55,
   "metadata": {
    "scrolled": true
   },
   "outputs": [
    {
     "data": {
      "application/vnd.jupyter.widget-view+json": {
       "model_id": "b2393e85934b4a688e7ad624abd8336c",
       "version_major": 2,
       "version_minor": 0
      },
      "text/plain": [
       "Map(center=[50.45, 10.8], controls=(WidgetControl(options=['position', 'transparent_bg'], widget=HBox(children…"
      ]
     },
     "metadata": {},
     "output_type": "display_data"
    }
   ],
   "source": [
    "Map2 = geemap.Map()\n",
    "Map2.addLayer(sentinel2_img, s2_vis, \"Sentinel-2\", True)\n",
    "# Map2.addLayer(aster_img, aster_vis, \"ASTER L1T\", False)\n",
    "Map2.addLayer(clustered_image, {'min': 0, 'max': 4, 'palette': ['red', 'green', 'blue', 'yellow', 'purple']}, 'clusters')\n",
    "Map2.setCenter(10.8, 50.45, 10)\n",
    "Map2"
   ]
  },
  {
   "cell_type": "code",
   "execution_count": 56,
   "metadata": {},
   "outputs": [
    {
     "ename": "SyntaxError",
     "evalue": "unexpected character after line continuation character (255165717.py, line 6)",
     "output_type": "error",
     "traceback": [
      "  \u001b[36mCell\u001b[39m\u001b[36m \u001b[39m\u001b[32mIn[56]\u001b[39m\u001b[32m, line 6\u001b[39m\n\u001b[31m    \u001b[39m\u001b[31m.map(lambda img: img.multiply(0.0000275).add(-0.2)) \\  # Apply scale factors\u001b[39m\n                                                                                \n^\n\u001b[31mSyntaxError\u001b[39m\u001b[31m:\u001b[39m unexpected character after line continuation character\n"
     ]
    }
   ],
   "source": []
  },
  {
   "cell_type": "code",
   "execution_count": null,
   "metadata": {},
   "outputs": [],
   "source": []
  }
 ],
 "metadata": {
  "kernelspec": {
   "display_name": "Python 3 (ipykernel)",
   "language": "python",
   "name": "python3"
  },
  "language_info": {
   "codemirror_mode": {
    "name": "ipython",
    "version": 3
   },
   "file_extension": ".py",
   "mimetype": "text/x-python",
   "name": "python",
   "nbconvert_exporter": "python",
   "pygments_lexer": "ipython3",
   "version": "3.13.2"
  }
 },
 "nbformat": 4,
 "nbformat_minor": 4
}
