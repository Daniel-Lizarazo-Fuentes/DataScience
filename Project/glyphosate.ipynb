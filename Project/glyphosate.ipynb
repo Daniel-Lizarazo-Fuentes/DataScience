{
 "cells": [
  {
   "cell_type": "code",
   "execution_count": 25,
   "metadata": {},
   "outputs": [
    {
     "name": "stdout",
     "output_type": "stream",
     "text": [
      "Google Earth Engine has initialized successfully!\n"
     ]
    }
   ],
   "source": [
    "import ee\n",
    "import geemap\n",
    "import geemap.colormaps as cm\n",
    "\n",
    "try:\n",
    "    # Initialize the library.\n",
    "    ee.Initialize()\n",
    "    print('Google Earth Engine has initialized successfully!')\n",
    "except ee.EEException as e:\n",
    "    print('Google Earth Engine has failed to initialize!')\n",
    "except:\n",
    "    print(\"Unexpected error:\", sys.exc_info()[0])\n",
    "    raise"
   ]
  },
  {
   "cell_type": "code",
   "execution_count": 26,
   "metadata": {},
   "outputs": [],
   "source": [
    "region = ee.Geometry.Polygon([\n",
    "  [\n",
    "    [10.7, 50.3],\n",
    "    [10.7, 50.471],\n",
    "    [10.9, 50.471],\n",
    "    [10.9, 50.3],\n",
    "    [10.7, 50.3] \n",
    "  ]\n",
    "])\n",
    "\n"
   ]
  },
  {
   "cell_type": "code",
   "execution_count": 60,
   "metadata": {},
   "outputs": [
    {
     "name": "stdout",
     "output_type": "stream",
     "text": [
      "Number of images in the collection 2017:  5\n",
      "Number of images in the collection 2018:  21\n",
      "Number of images in the collection 2019:  14\n",
      "Number of images in the collection 2020:  13\n",
      "Number of images in the collection 2021:  13\n",
      "Number of images in the collection 2022:  6\n"
     ]
    }
   ],
   "source": [
    "def calculate_indices(image):\n",
    "    ndvi = image.normalizedDifference(['B8', 'B4']).rename('NDVI')\n",
    "    cvi = image.select('B8').multiply(image.select('B4')).rename('CVI')  # Chlorophyll Vegetation Index\n",
    "    ari = image.select('B3').subtract(image.select('B5')).rename('ARI')  # Anthocyanin Reflectance Index\n",
    "    msavi = image.expression(\n",
    "        '((2 * NIR + 1) - sqrt((2 * NIR + 1) ** 2 - 8 * (NIR - RED))) / 2', {\n",
    "            'NIR': image.select('B8'),\n",
    "            'RED': image.select('B4')\n",
    "        }).rename('MSAVI')  # Modified Soil Adjusted Vegetation Index\n",
    "    \n",
    "    return image.addBands([ndvi, cvi, ari, msavi])\n",
    "    \n",
    "years = [2017, 2018, 2019, 2020,2021,2022]\n",
    "indices_images = {}\n",
    "\n",
    "for year in years:\n",
    "    collection = (\n",
    "        ee.ImageCollection('COPERNICUS/S2_SR_HARMONIZED')\n",
    "        .filterBounds(region)\n",
    "        .filterDate(f'{year}-07-01', f'{year}-09-30')\n",
    "        .filterMetadata('CLOUDY_PIXEL_PERCENTAGE', 'less_than', 10)\n",
    "        .map(calculate_indices)\n",
    "    )\n",
    "    print(f'Number of images in the collection {year}: ', len(collection.aggregate_array('system:index').getInfo()))\n",
    "    indices_images[year] = collection.median().clip(region)\n",
    "\n",
    "indices_diffs = {}\n",
    "for i in range(len(years) - 1):\n",
    "    year1, year2 = years[i], years[i + 1]\n",
    "    indices_diffs[f'{year2}_{year1}'] = indices_images[year2].select(['NDVI', 'CVI', 'ARI', 'MSAVI']).subtract(\n",
    "        indices_images[year1].select(['NDVI', 'CVI', 'ARI', 'MSAVI'])\n",
    "    ).rename([f'NDVI_diff_{year2}_{year1}', f'CVI_diff_{year2}_{year1}', \n",
    "              f'ARI_diff_{year2}_{year1}', f'MSAVI_diff_{year2}_{year1}'])\n",
    "\n",
    "nri = (\n",
    "    indices_diffs['2020_2019'].select('NDVI_diff_2020_2019')\n",
    "    .add(indices_diffs['2019_2018'].select('NDVI_diff_2019_2018'))\n",
    "    .add(indices_diffs['2018_2017'].select('NDVI_diff_2018_2017'))\n",
    ").divide(indices_images[2017].select('NDVI')).rename('NRI')\n",
    "\n",
    "# Combine all difference layers into a feature stack and add NRI\n",
    "feature_stack = indices_diffs['2018_2017'].addBands([\n",
    "    indices_diffs['2019_2018'],\n",
    "    indices_diffs['2020_2019'],\n",
    "    nri\n",
    "])\n"
   ]
  },
  {
   "cell_type": "code",
   "execution_count": 61,
   "metadata": {},
   "outputs": [],
   "source": [
    "num_clusters = 3\n",
    "training = feature_stack.sample(region, scale=20, numPixels=5000)\n",
    "clusterer = ee.Clusterer.wekaKMeans(num_clusters).train(training)\n",
    "indices_clustered = feature_stack.cluster(clusterer).clip(region)"
   ]
  },
  {
   "cell_type": "code",
   "execution_count": 62,
   "metadata": {},
   "outputs": [],
   "source": [
    "glyphosate_fields = indices_clustered.eq(0)"
   ]
  },
  {
   "cell_type": "code",
   "execution_count": 63,
   "metadata": {},
   "outputs": [
    {
     "data": {
      "application/vnd.jupyter.widget-view+json": {
       "model_id": "c825a754004a4ac1abdbc82eadf0d4e8",
       "version_major": 2,
       "version_minor": 0
      },
      "text/plain": [
       "Map(center=[50.35, 10.8], controls=(WidgetControl(options=['position', 'transparent_bg'], widget=HBox(children…"
      ]
     },
     "metadata": {},
     "output_type": "display_data"
    }
   ],
   "source": [
    "palette = cm.get_palette(\"inferno\", num_clusters) \n",
    "cluster_vis = {\n",
    "    'min': 0,\n",
    "    'max': num_clusters - 1,  \n",
    "    'palette': palette\n",
    "}\n",
    "\n",
    "s2_vis = {\n",
    "    'bands': ['B4', 'B3', 'B2'],\n",
    "    'min': 0,\n",
    "    'max': 3000,\n",
    "}\n",
    "\n",
    "aster_vis = {\n",
    "    'bands': ['B02', 'B01'],\n",
    "    'min': 0,\n",
    "    'max': 255\n",
    "}\n",
    "nri_vis = {\n",
    "    'min': -1,  \n",
    "    'max': 1,   \n",
    "    'palette': ['red', 'white', 'green']\n",
    "}\n",
    "ndvi_vis = {'min': -0.2, 'max': 0.8, 'palette': ['blue', 'white', 'green']}\n",
    "\n",
    "\n",
    "Map = geemap.Map()\n",
    "Map.addLayer(nri, nri_vis, 'NDVI Recovery Index (NRI)')\n",
    "Map.addLayer(indices_images[2017],s2_vis,'Satelite 2017')\n",
    "Map.addLayer(indices_images[2018],s2_vis,'Satelite 2018')\n",
    "Map.addLayer(indices_images[2019],s2_vis,'Satelite 2019')\n",
    "Map.addLayer(indices_images[2020],s2_vis,'Satelite 2020')\n",
    "Map.addLayer(indices_images[2021],s2_vis,'Satelite 2021')\n",
    "Map.addLayer(indices_images[2022],s2_vis,'Satelite 2022')\n",
    "Map.addLayer(indices_clustered, cluster_vis, 'Field Clusters')\n",
    "Map.addLayer(glyphosate_fields.updateMask(glyphosate_fields), {'palette': ['red']}, 'Glyphosate Fields')\n",
    "Map.setCenter(10.8, 50.35, 11)\n",
    "Map"
   ]
  },
  {
   "cell_type": "code",
   "execution_count": 49,
   "metadata": {},
   "outputs": [
    {
     "name": "stdout",
     "output_type": "stream",
     "text": [
      "Unique Cluster Distribution:  {'0': 112830.61960784336, '1': 18273.399999999987, '2': 339868.76470588}\n"
     ]
    }
   ],
   "source": [
    "unique_clusters = nri_clustered.reduceRegion(\n",
    "    reducer=ee.Reducer.frequencyHistogram(),\n",
    "    geometry=region,\n",
    "    scale=30,\n",
    "    maxPixels=1e8\n",
    ").get('cluster')\n",
    "\n",
    "# Inspect the unique cluster distribution (for debugging)\n",
    "print(\"Unique Cluster Distribution: \", unique_clusters.getInfo())"
   ]
  },
  {
   "cell_type": "code",
   "execution_count": 67,
   "metadata": {},
   "outputs": [
    {
     "data": {
      "text/plain": [
       "[[[10.832477, 50.454643],\n",
       "  [10.831919, 50.453974],\n",
       "  [10.825396, 50.453523],\n",
       "  [10.825481, 50.451993],\n",
       "  [10.83385, 50.451528],\n",
       "  [10.836575, 50.453728],\n",
       "  [10.832627, 50.454657]],\n",
       " [[10.83385, 50.450804],\n",
       "  [10.832541, 50.449643],\n",
       "  [10.835567, 50.449083],\n",
       "  [10.837734, 50.44896],\n",
       "  [10.840094, 50.448126],\n",
       "  [10.839772, 50.449274],\n",
       "  [10.838549, 50.449861],\n",
       "  [10.833871, 50.450763]],\n",
       " [[10.832562, 50.464215],\n",
       "  [10.835127, 50.464475],\n",
       "  [10.835556, 50.464311],\n",
       "  [10.834376, 50.462296],\n",
       "  [10.83267, 50.463539],\n",
       "  [10.832573, 50.464284]],\n",
       " [[10.820503, 50.422199],\n",
       "  [10.820868, 50.42481],\n",
       "  [10.821705, 50.427749],\n",
       "  [10.831575, 50.425316],\n",
       "  [10.832627, 50.42455],\n",
       "  [10.831532, 50.424345],\n",
       "  [10.831361, 50.423675],\n",
       "  [10.828357, 50.424318],\n",
       "  [10.823979, 50.420203],\n",
       "  [10.822885, 50.420791],\n",
       "  [10.822928, 50.421447],\n",
       "  [10.822134, 50.421871],\n",
       "  [10.820568, 50.422199]],\n",
       " [[10.827284, 50.414255],\n",
       "  [10.826962, 50.413312],\n",
       "  [10.828099, 50.413298],\n",
       "  [10.828829, 50.413025],\n",
       "  [10.833786, 50.412956],\n",
       "  [10.835009, 50.412997],\n",
       "  [10.851917, 50.407713],\n",
       "  [10.853055, 50.408289],\n",
       "  [10.851756, 50.409055],\n",
       "  [10.8521, 50.409404],\n",
       "  [10.837573, 50.413403],\n",
       "  [10.834183, 50.414046],\n",
       "  [10.827327, 50.414326]],\n",
       " [[10.81619, 50.39939],\n",
       "  [10.818594, 50.40032],\n",
       "  [10.819731, 50.400265],\n",
       "  [10.819559, 50.399595],\n",
       "  [10.822842, 50.395519],\n",
       "  [10.820568, 50.395273],\n",
       "  [10.820138, 50.396203],\n",
       "  [10.818679, 50.395779],\n",
       "  [10.816469, 50.397584],\n",
       "  [10.817177, 50.398446],\n",
       "  [10.816233, 50.399417]]]"
      ]
     },
     "execution_count": 67,
     "metadata": {},
     "output_type": "execute_result"
    }
   ],
   "source": [
    "fc = ee.FeatureCollection(Map.draw_features)\n",
    "region = fc.geometry()\n",
    "cords = region.getInfo()['coordinates']\n",
    "cords"
   ]
  },
  {
   "cell_type": "code",
   "execution_count": null,
   "metadata": {},
   "outputs": [],
   "source": []
  }
 ],
 "metadata": {
  "kernelspec": {
   "display_name": "Python 3 (ipykernel)",
   "language": "python",
   "name": "python3"
  },
  "language_info": {
   "codemirror_mode": {
    "name": "ipython",
    "version": 3
   },
   "file_extension": ".py",
   "mimetype": "text/x-python",
   "name": "python",
   "nbconvert_exporter": "python",
   "pygments_lexer": "ipython3",
   "version": "3.13.2"
  }
 },
 "nbformat": 4,
 "nbformat_minor": 4
}
