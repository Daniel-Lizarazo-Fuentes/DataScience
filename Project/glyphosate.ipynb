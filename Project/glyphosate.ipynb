{
 "cells": [
  {
   "cell_type": "code",
   "execution_count": 104,
   "metadata": {},
   "outputs": [
    {
     "name": "stdout",
     "output_type": "stream",
     "text": [
      "Google Earth Engine has initialized successfully!\n"
     ]
    }
   ],
   "source": [
    "import ee\n",
    "import geemap\n",
    "# import geemap.colormaps as cm\n",
    "\n",
    "try:\n",
    "    # Initialize the library.\n",
    "    ee.Initialize()\n",
    "    print('Google Earth Engine has initialized successfully!')\n",
    "except ee.EEException as e:\n",
    "    print('Google Earth Engine has failed to initialize!')\n",
    "except:\n",
    "    print(\"Unexpected error:\", sys.exc_info()[0])\n",
    "    raise"
   ]
  },
  {
   "cell_type": "code",
   "execution_count": 64,
   "metadata": {},
   "outputs": [],
   "source": [
    "region = ee.Geometry.Polygon([\n",
    "  [\n",
    "    [10.7, 50.3],\n",
    "    [10.7, 50.471],\n",
    "    [10.9, 50.471],\n",
    "    [10.9, 50.3],\n",
    "    [10.7, 50.3] \n",
    "  ]\n",
    "])\n",
    "\n"
   ]
  },
  {
   "cell_type": "code",
   "execution_count": null,
   "metadata": {},
   "outputs": [],
   "source": [
    "def calculate_ndvi(image):\n",
    "    ndvi = image.normalizedDifference(['B8', 'B4']).rename('NDVI')\n",
    "    return image.addBands(ndvi)\n",
    "    \n",
    "years = [2017, 2018, 2019, 2020]\n",
    "ndvi_images = {}\n",
    "\n",
    "for year in years:\n",
    "    collection = (\n",
    "        ee.ImageCollection('COPERNICUS/S2_SR_HARMONIZED')\n",
    "        .filterBounds(region)\n",
    "        .filterDate(f'{year}-07-01', f'{year}-09-30')\n",
    "        .filterMetadata('CLOUDY_PIXEL_PERCENTAGE', 'less_than', 10)\n",
    "        .map(calculate_ndvi)\n",
    "    )\n",
    "    print(f'Number of images in the collection {year}: ', len(collection.aggregate_array('system:index').getInfo()))\n",
    "    ndvi_images[year] = collection.median().clip(region)\n",
    "\n",
    "ndvi_diff_2018_2017 = ndvi_images[2018].select('NDVI').subtract(ndvi_images[2017].select('NDVI'))\n",
    "ndvi_diff_2019_2018 = ndvi_images[2019].select('NDVI').subtract(ndvi_images[2018].select('NDVI'))\n",
    "ndvi_diff_2020_2019 = ndvi_images[2020].select('NDVI').subtract(ndvi_images[2019].select('NDVI'))\n",
    "\n",
    "nri = (ndvi_diff_2020_2019.add(ndvi_diff_2019_2018).add(ndvi_diff_2018_2017)).divide(ndvi_images[2017].select('NDVI')).rename('NRI')\n",
    "\n",
    "training = nri.sample(region, scale=20, numPixels=5000)\n",
    "clusterer = ee.Clusterer.wekaKMeans(3).train(training)\n",
    "nri_clustered = nri.cluster(clusterer).clip(region)"
   ]
  },
  {
   "cell_type": "code",
   "execution_count": 123,
   "metadata": {},
   "outputs": [
    {
     "data": {
      "application/vnd.jupyter.widget-view+json": {
       "model_id": "8cd1b2393a9f462589ec6d0f09d76777",
       "version_major": 2,
       "version_minor": 0
      },
      "text/plain": [
       "Map(center=[50.35, 10.8], controls=(WidgetControl(options=['position', 'transparent_bg'], widget=HBox(children…"
      ]
     },
     "metadata": {},
     "output_type": "display_data"
    }
   ],
   "source": [
    "palette = cm.get_palette(\"inferno\", num_clusters) \n",
    "cluster_vis = {\n",
    "    'min': 0,\n",
    "    'max': num_clusters - 1,  \n",
    "    'palette': palette\n",
    "}\n",
    "\n",
    "s2_vis = {\n",
    "    'bands': ['B4', 'B3', 'B2'],\n",
    "    'min': 0,\n",
    "    'max': 3000,\n",
    "}\n",
    "\n",
    "aster_vis = {\n",
    "    'bands': ['B02', 'B01'],\n",
    "    'min': 0,\n",
    "    'max': 255\n",
    "}\n",
    "nri_vis = {\n",
    "    'min': -1,  \n",
    "    'max': 1,   \n",
    "    'palette': ['red', 'white', 'green']\n",
    "}\n",
    "ndvi_vis = {'min': -0.2, 'max': 0.8, 'palette': ['blue', 'white', 'green']}\n",
    "\n",
    "\n",
    "\n",
    "Map2 = geemap.Map()\n",
    "Map2.addLayer(nri, nri_vis, 'NDVI Recovery Index (NRI)')\n",
    "Map2.addLayer(ndvi_images[2017],s2_vis,'Satelite 2017')\n",
    "Map2.addLayer(ndvi_images[2018],s2_vis,'Satelite 2018')\n",
    "Map2.addLayer(ndvi_images[2019],s2_vis,'Satelite 2019')\n",
    "Map2.addLayer(ndvi_images[2020],s2_vis,'Satelite 2020')\n",
    "Map2.addLayer(nri_clustered, cluster_vis, 'Field Clusters')\n",
    "Map2.setCenter(10.8, 50.35, 11)\n",
    "Map2"
   ]
  },
  {
   "cell_type": "code",
   "execution_count": 115,
   "metadata": {},
   "outputs": [
    {
     "name": "stdout",
     "output_type": "stream",
     "text": [
      "Unique Cluster Distribution:  {'0': 112830.61960784336, '1': 18273.399999999987, '2': 339868.76470588}\n"
     ]
    }
   ],
   "source": [
    "unique_clusters = nri_clustered.reduceRegion(\n",
    "    reducer=ee.Reducer.frequencyHistogram(),\n",
    "    geometry=region,\n",
    "    scale=30,\n",
    "    maxPixels=1e8\n",
    ").get('cluster')\n",
    "\n",
    "# Inspect the unique cluster distribution (for debugging)\n",
    "print(\"Unique Cluster Distribution: \", unique_clusters.getInfo())"
   ]
  },
  {
   "cell_type": "code",
   "execution_count": 43,
   "metadata": {},
   "outputs": [],
   "source": [
    "\n",
    "# aster = ee.ImageCollection(\"ASTER/AST_L1T_003\") \\\n",
    "#     .filterBounds(region) \\\n",
    "#     .filterDate('2018-06-01', '2018-08-30')"
   ]
  },
  {
   "cell_type": "code",
   "execution_count": 44,
   "metadata": {},
   "outputs": [
    {
     "name": "stdout",
     "output_type": "stream",
     "text": [
      "Number of images in the collection:  18\n",
      "Number of images in the collection:  3\n"
     ]
    }
   ],
   "source": [
    "listOfImages = aster.aggregate_array('system:index').getInfo()\n",
    "print('Number of images in the collection: ', len(listOfImages))"
   ]
  },
  {
   "cell_type": "code",
   "execution_count": 45,
   "metadata": {},
   "outputs": [],
   "source": [
    "aster_img = aster.mosaic().clip(region)"
   ]
  },
  {
   "cell_type": "code",
   "execution_count": 47,
   "metadata": {},
   "outputs": [],
   "source": [
    "def calculate_evi(image):\n",
    "    evi = image.expression(\n",
    "        '2.5 * (NIR - RED) / (NIR + 6 * RED - 7.5 * BLUE + 1)', {\n",
    "            'NIR': image.select('B8'),\n",
    "            'RED': image.select('B4'),\n",
    "            'BLUE': image.select('B2')\n",
    "        }\n",
    "    ).rename('EVI')\n",
    "    return image.addBands(evi)"
   ]
  },
  {
   "cell_type": "code",
   "execution_count": 54,
   "metadata": {},
   "outputs": [],
   "source": [
    "sentinel2_img_features = calculate_ndvi(sentinel2_img)\n",
    "sentinel2_img_features = calculate_evi(sentinel2_img_features)\n",
    "\n",
    "feature_bands = ['B2', 'B3', 'B4', 'B8', 'NDVI', 'EVI']\n",
    "feature_image = sentinel2_img_features.select(feature_bands)\n",
    "\n",
    "training_data = feature_image.sample(\n",
    "    region=region,\n",
    "    scale=10,\n",
    "    numPixels=5000,  \n",
    "    geometries=True\n",
    ").randomColumn()\n",
    "\n",
    "clusterer = ee.Clusterer.wekaKMeans(5).train(training_data.select(feature_bands),feature_bands)\n",
    "clustered_image = feature_image.cluster(clusterer).rename('clusters')"
   ]
  }
 ],
 "metadata": {
  "kernelspec": {
   "display_name": "Python 3 (ipykernel)",
   "language": "python",
   "name": "python3"
  },
  "language_info": {
   "codemirror_mode": {
    "name": "ipython",
    "version": 3
   },
   "file_extension": ".py",
   "mimetype": "text/x-python",
   "name": "python",
   "nbconvert_exporter": "python",
   "pygments_lexer": "ipython3",
   "version": "3.13.2"
  }
 },
 "nbformat": 4,
 "nbformat_minor": 4
}
