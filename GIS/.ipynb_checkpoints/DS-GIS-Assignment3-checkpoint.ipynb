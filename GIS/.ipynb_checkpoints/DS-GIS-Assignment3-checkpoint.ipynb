{
 "cells": [
  {
   "cell_type": "markdown",
   "id": "6fdfc8f1-5f67-485d-9fc9-22c9cc6be6d0",
   "metadata": {},
   "source": [
    "# Satellite data access through Google Earth Engine\n",
    "\n",
    "Mahdi Khodadadzadeh\n",
    "October 2022\n"
   ]
  },
  {
   "cell_type": "markdown",
   "id": "e625e3ee-4985-4480-aed9-734b50c1be53",
   "metadata": {},
   "source": [
    "In this notebook, you will practice some functionalities of the the Google Earth Engine Python API. This exercise is prepared with some materials from this [tutorial](https://developers.google.com/earth-engine/tutorials/community/intro-to-python-api). "
   ]
  },
  {
   "cell_type": "markdown",
   "id": "c488971e-1ab1-4e7a-9425-086745e1c766",
   "metadata": {},
   "source": [
    "## What is GEE?"
   ]
  },
  {
   "cell_type": "markdown",
   "id": "99d86ffa-b660-429f-95e5-3c6e247a13d4",
   "metadata": {},
   "source": [
    "[GEE](https://earthengine.google.com/) combines a multi-petabyte catalog of satellite imagery and geospatial datasets with planetary-scale analysis capabilities. Scientists, researchers, and developers use Earth Engine to detect changes, map trends, and quantify differences on the Earth's surface. Earth Engine is now available for commercial use, and remains **free for academic and research use**. Particularly, GEE provides petabyte-scale catalog of public and free-to-use geospatial datasets. Visit the [Earth Engine Data Catalog](https://developers.google.com/earth-engine/datasets/catalog) and explore datasets using the search bar or browsing by tag.\n",
    "\n",
    "To use GEE you need to connect to the Earth Engine service through one of the APIs. In this tutorial we will use the Python API. See [here](https://developers.google.com/earth-engine) to know more about all the available APIs.\n",
    "\n",
    "To connect to the GEE APIs, you need to have an active GEE account. You can sign up for GEE if you don’t have an active account yet. Go [here](https://code.earthengine.google.com/) and create or link your current Google account to a new account of GEE. Then, GEE will request access to your Google account, that you need to allow it. After that, you need to fill out an application form and submit it. Once you successfully submit the form, you will receive a \"Thank You\" message. Then you need to keep an eye on your gmail inbox to receive a \"Welcome to Google Earth Engine!\" email, which confirms that you are able to login using your Google account on \"code.earthengine.google.com\" and to use any GEE API. It will take a few minutes, more rarely some days.\n"
   ]
  },
  {
   "cell_type": "code",
   "execution_count": 1,
   "id": "88ae2e0d",
   "metadata": {},
   "outputs": [
    {
     "name": "stdout",
     "output_type": "stream",
     "text": [
      "Requirement already satisfied: earthengine-api in /home/daniellizarazo/Repositories/UTwente/DataScience/venv/lib/python3.13/site-packages (1.5.7)\n",
      "Requirement already satisfied: google-cloud-storage in /home/daniellizarazo/Repositories/UTwente/DataScience/venv/lib/python3.13/site-packages (from earthengine-api) (3.1.0)\n",
      "Requirement already satisfied: google-api-python-client>=1.12.1 in /home/daniellizarazo/Repositories/UTwente/DataScience/venv/lib/python3.13/site-packages (from earthengine-api) (2.165.0)\n",
      "Requirement already satisfied: google-auth>=1.4.1 in /home/daniellizarazo/Repositories/UTwente/DataScience/venv/lib/python3.13/site-packages (from earthengine-api) (2.38.0)\n",
      "Requirement already satisfied: google-auth-httplib2>=0.0.3 in /home/daniellizarazo/Repositories/UTwente/DataScience/venv/lib/python3.13/site-packages (from earthengine-api) (0.2.0)\n",
      "Requirement already satisfied: httplib2<1dev,>=0.9.2 in /home/daniellizarazo/Repositories/UTwente/DataScience/venv/lib/python3.13/site-packages (from earthengine-api) (0.22.0)\n",
      "Requirement already satisfied: requests in /home/daniellizarazo/Repositories/UTwente/DataScience/venv/lib/python3.13/site-packages (from earthengine-api) (2.32.3)\n",
      "Requirement already satisfied: google-api-core!=2.0.*,!=2.1.*,!=2.2.*,!=2.3.0,<3.0.0,>=1.31.5 in /home/daniellizarazo/Repositories/UTwente/DataScience/venv/lib/python3.13/site-packages (from google-api-python-client>=1.12.1->earthengine-api) (2.24.2)\n",
      "Requirement already satisfied: uritemplate<5,>=3.0.1 in /home/daniellizarazo/Repositories/UTwente/DataScience/venv/lib/python3.13/site-packages (from google-api-python-client>=1.12.1->earthengine-api) (4.1.1)\n",
      "Requirement already satisfied: cachetools<6.0,>=2.0.0 in /home/daniellizarazo/Repositories/UTwente/DataScience/venv/lib/python3.13/site-packages (from google-auth>=1.4.1->earthengine-api) (5.5.2)\n",
      "Requirement already satisfied: pyasn1-modules>=0.2.1 in /home/daniellizarazo/Repositories/UTwente/DataScience/venv/lib/python3.13/site-packages (from google-auth>=1.4.1->earthengine-api) (0.4.1)\n",
      "Requirement already satisfied: rsa<5,>=3.1.4 in /home/daniellizarazo/Repositories/UTwente/DataScience/venv/lib/python3.13/site-packages (from google-auth>=1.4.1->earthengine-api) (4.9)\n",
      "Requirement already satisfied: pyparsing!=3.0.0,!=3.0.1,!=3.0.2,!=3.0.3,<4,>=2.4.2 in /home/daniellizarazo/Repositories/UTwente/DataScience/venv/lib/python3.13/site-packages (from httplib2<1dev,>=0.9.2->earthengine-api) (3.2.1)\n",
      "Requirement already satisfied: google-cloud-core<3.0dev,>=2.4.2 in /home/daniellizarazo/Repositories/UTwente/DataScience/venv/lib/python3.13/site-packages (from google-cloud-storage->earthengine-api) (2.4.3)\n",
      "Requirement already satisfied: google-resumable-media>=2.7.2 in /home/daniellizarazo/Repositories/UTwente/DataScience/venv/lib/python3.13/site-packages (from google-cloud-storage->earthengine-api) (2.7.2)\n",
      "Requirement already satisfied: google-crc32c<2.0dev,>=1.0 in /home/daniellizarazo/Repositories/UTwente/DataScience/venv/lib/python3.13/site-packages (from google-cloud-storage->earthengine-api) (1.7.0)\n",
      "Requirement already satisfied: charset-normalizer<4,>=2 in /home/daniellizarazo/Repositories/UTwente/DataScience/venv/lib/python3.13/site-packages (from requests->earthengine-api) (3.4.1)\n",
      "Requirement already satisfied: idna<4,>=2.5 in /home/daniellizarazo/Repositories/UTwente/DataScience/venv/lib/python3.13/site-packages (from requests->earthengine-api) (3.10)\n",
      "Requirement already satisfied: urllib3<3,>=1.21.1 in /home/daniellizarazo/Repositories/UTwente/DataScience/venv/lib/python3.13/site-packages (from requests->earthengine-api) (2.3.0)\n",
      "Requirement already satisfied: certifi>=2017.4.17 in /home/daniellizarazo/Repositories/UTwente/DataScience/venv/lib/python3.13/site-packages (from requests->earthengine-api) (2025.1.31)\n",
      "Requirement already satisfied: googleapis-common-protos<2.0.0,>=1.56.2 in /home/daniellizarazo/Repositories/UTwente/DataScience/venv/lib/python3.13/site-packages (from google-api-core!=2.0.*,!=2.1.*,!=2.2.*,!=2.3.0,<3.0.0,>=1.31.5->google-api-python-client>=1.12.1->earthengine-api) (1.69.2)\n",
      "Requirement already satisfied: protobuf!=3.20.0,!=3.20.1,!=4.21.0,!=4.21.1,!=4.21.2,!=4.21.3,!=4.21.4,!=4.21.5,<7.0.0,>=3.19.5 in /home/daniellizarazo/Repositories/UTwente/DataScience/venv/lib/python3.13/site-packages (from google-api-core!=2.0.*,!=2.1.*,!=2.2.*,!=2.3.0,<3.0.0,>=1.31.5->google-api-python-client>=1.12.1->earthengine-api) (6.30.1)\n",
      "Requirement already satisfied: proto-plus<2.0.0,>=1.22.3 in /home/daniellizarazo/Repositories/UTwente/DataScience/venv/lib/python3.13/site-packages (from google-api-core!=2.0.*,!=2.1.*,!=2.2.*,!=2.3.0,<3.0.0,>=1.31.5->google-api-python-client>=1.12.1->earthengine-api) (1.26.1)\n",
      "Requirement already satisfied: pyasn1<0.7.0,>=0.4.6 in /home/daniellizarazo/Repositories/UTwente/DataScience/venv/lib/python3.13/site-packages (from pyasn1-modules>=0.2.1->google-auth>=1.4.1->earthengine-api) (0.6.1)\n",
      "\n",
      "\u001b[1m[\u001b[0m\u001b[34;49mnotice\u001b[0m\u001b[1;39;49m]\u001b[0m\u001b[39;49m A new release of pip is available: \u001b[0m\u001b[31;49m24.3.1\u001b[0m\u001b[39;49m -> \u001b[0m\u001b[32;49m25.0.1\u001b[0m\n",
      "\u001b[1m[\u001b[0m\u001b[34;49mnotice\u001b[0m\u001b[1;39;49m]\u001b[0m\u001b[39;49m To update, run: \u001b[0m\u001b[32;49mpip install --upgrade pip\u001b[0m\n",
      "Note: you may need to restart the kernel to use updated packages.\n",
      "Requirement already satisfied: ipykernel in /home/daniellizarazo/Repositories/UTwente/DataScience/venv/lib/python3.13/site-packages (6.29.5)\n",
      "Requirement already satisfied: geemap in /home/daniellizarazo/Repositories/UTwente/DataScience/venv/lib/python3.13/site-packages (0.15.3)\n",
      "Requirement already satisfied: ipyleaflet==0.16 in /home/daniellizarazo/Repositories/UTwente/DataScience/venv/lib/python3.13/site-packages (0.16.0)\n",
      "Requirement already satisfied: ipywidgets<8,>=7.6.0 in /home/daniellizarazo/Repositories/UTwente/DataScience/venv/lib/python3.13/site-packages (from ipyleaflet==0.16) (7.8.5)\n",
      "Requirement already satisfied: traittypes<3,>=0.2.1 in /home/daniellizarazo/Repositories/UTwente/DataScience/venv/lib/python3.13/site-packages (from ipyleaflet==0.16) (0.2.1)\n",
      "Requirement already satisfied: xyzservices>=2021.8.1 in /home/daniellizarazo/Repositories/UTwente/DataScience/venv/lib/python3.13/site-packages (from ipyleaflet==0.16) (2025.1.0)\n",
      "Requirement already satisfied: comm>=0.1.1 in /home/daniellizarazo/Repositories/UTwente/DataScience/venv/lib/python3.13/site-packages (from ipykernel) (0.2.2)\n",
      "Requirement already satisfied: debugpy>=1.6.5 in /home/daniellizarazo/Repositories/UTwente/DataScience/venv/lib/python3.13/site-packages (from ipykernel) (1.8.13)\n",
      "Requirement already satisfied: ipython>=7.23.1 in /home/daniellizarazo/Repositories/UTwente/DataScience/venv/lib/python3.13/site-packages (from ipykernel) (9.0.2)\n",
      "Requirement already satisfied: jupyter-client>=6.1.12 in /home/daniellizarazo/Repositories/UTwente/DataScience/venv/lib/python3.13/site-packages (from ipykernel) (8.6.3)\n",
      "Requirement already satisfied: jupyter-core!=5.0.*,>=4.12 in /home/daniellizarazo/Repositories/UTwente/DataScience/venv/lib/python3.13/site-packages (from ipykernel) (5.7.2)\n",
      "Requirement already satisfied: matplotlib-inline>=0.1 in /home/daniellizarazo/Repositories/UTwente/DataScience/venv/lib/python3.13/site-packages (from ipykernel) (0.1.7)\n",
      "Requirement already satisfied: nest-asyncio in /home/daniellizarazo/Repositories/UTwente/DataScience/venv/lib/python3.13/site-packages (from ipykernel) (1.6.0)\n",
      "Requirement already satisfied: packaging in /home/daniellizarazo/Repositories/UTwente/DataScience/venv/lib/python3.13/site-packages (from ipykernel) (24.2)\n",
      "Requirement already satisfied: psutil in /home/daniellizarazo/Repositories/UTwente/DataScience/venv/lib/python3.13/site-packages (from ipykernel) (7.0.0)\n",
      "Requirement already satisfied: pyzmq>=24 in /home/daniellizarazo/Repositories/UTwente/DataScience/venv/lib/python3.13/site-packages (from ipykernel) (26.3.0)\n",
      "Requirement already satisfied: tornado>=6.1 in /home/daniellizarazo/Repositories/UTwente/DataScience/venv/lib/python3.13/site-packages (from ipykernel) (6.4.2)\n",
      "Requirement already satisfied: traitlets>=5.4.0 in /home/daniellizarazo/Repositories/UTwente/DataScience/venv/lib/python3.13/site-packages (from ipykernel) (5.14.3)\n",
      "Requirement already satisfied: bqplot in /home/daniellizarazo/Repositories/UTwente/DataScience/venv/lib/python3.13/site-packages (from geemap) (0.12.44)\n",
      "Requirement already satisfied: colour in /home/daniellizarazo/Repositories/UTwente/DataScience/venv/lib/python3.13/site-packages (from geemap) (0.1.5)\n",
      "Requirement already satisfied: earthengine-api>=0.1.304 in /home/daniellizarazo/Repositories/UTwente/DataScience/venv/lib/python3.13/site-packages (from geemap) (1.5.7)\n",
      "Requirement already satisfied: ee-extra>=0.0.10 in /home/daniellizarazo/Repositories/UTwente/DataScience/venv/lib/python3.13/site-packages (from geemap) (0.0.15)\n",
      "Requirement already satisfied: ffmpeg-python in /home/daniellizarazo/Repositories/UTwente/DataScience/venv/lib/python3.13/site-packages (from geemap) (0.2.0)\n",
      "Requirement already satisfied: folium>=0.11.0 in /home/daniellizarazo/Repositories/UTwente/DataScience/venv/lib/python3.13/site-packages (from geemap) (0.19.5)\n",
      "Requirement already satisfied: gdown in /home/daniellizarazo/Repositories/UTwente/DataScience/venv/lib/python3.13/site-packages (from geemap) (5.2.0)\n",
      "Requirement already satisfied: geeadd>=0.5.1 in /home/daniellizarazo/Repositories/UTwente/DataScience/venv/lib/python3.13/site-packages (from geemap) (1.2.1)\n",
      "Requirement already satisfied: geocoder in /home/daniellizarazo/Repositories/UTwente/DataScience/venv/lib/python3.13/site-packages (from geemap) (1.38.1)\n",
      "Requirement already satisfied: geojson in /home/daniellizarazo/Repositories/UTwente/DataScience/venv/lib/python3.13/site-packages (from geemap) (3.2.0)\n",
      "Requirement already satisfied: ipyevents in /home/daniellizarazo/Repositories/UTwente/DataScience/venv/lib/python3.13/site-packages (from geemap) (2.0.2)\n",
      "Requirement already satisfied: ipyfilechooser>=0.6.0 in /home/daniellizarazo/Repositories/UTwente/DataScience/venv/lib/python3.13/site-packages (from geemap) (0.6.0)\n",
      "Requirement already satisfied: ipytree in /home/daniellizarazo/Repositories/UTwente/DataScience/venv/lib/python3.13/site-packages (from geemap) (0.2.2)\n",
      "Requirement already satisfied: jupyterlab>=3 in /home/daniellizarazo/Repositories/UTwente/DataScience/venv/lib/python3.13/site-packages (from geemap) (4.3.6)\n",
      "Requirement already satisfied: matplotlib in /home/daniellizarazo/Repositories/UTwente/DataScience/venv/lib/python3.13/site-packages (from geemap) (3.10.1)\n",
      "Requirement already satisfied: numpy in /home/daniellizarazo/Repositories/UTwente/DataScience/venv/lib/python3.13/site-packages (from geemap) (2.2.4)\n",
      "Requirement already satisfied: pandas in /home/daniellizarazo/Repositories/UTwente/DataScience/venv/lib/python3.13/site-packages (from geemap) (2.2.3)\n",
      "Requirement already satisfied: pillow in /home/daniellizarazo/Repositories/UTwente/DataScience/venv/lib/python3.13/site-packages (from geemap) (11.1.0)\n",
      "Requirement already satisfied: pycrs in /home/daniellizarazo/Repositories/UTwente/DataScience/venv/lib/python3.13/site-packages (from geemap) (1.0.2)\n",
      "Requirement already satisfied: pyshp>=2.1.3 in /home/daniellizarazo/Repositories/UTwente/DataScience/venv/lib/python3.13/site-packages (from geemap) (2.3.1)\n",
      "Requirement already satisfied: python-box in /home/daniellizarazo/Repositories/UTwente/DataScience/venv/lib/python3.13/site-packages (from geemap) (7.3.2)\n",
      "Requirement already satisfied: sankee>=0.1.0 in /home/daniellizarazo/Repositories/UTwente/DataScience/venv/lib/python3.13/site-packages (from geemap) (0.2.5)\n",
      "Requirement already satisfied: scooby in /home/daniellizarazo/Repositories/UTwente/DataScience/venv/lib/python3.13/site-packages (from geemap) (0.10.0)\n",
      "Requirement already satisfied: whiteboxgui>=0.6.0 in /home/daniellizarazo/Repositories/UTwente/DataScience/venv/lib/python3.13/site-packages (from geemap) (2.3.0)\n",
      "Requirement already satisfied: google-cloud-storage in /home/daniellizarazo/Repositories/UTwente/DataScience/venv/lib/python3.13/site-packages (from earthengine-api>=0.1.304->geemap) (3.1.0)\n",
      "Requirement already satisfied: google-api-python-client>=1.12.1 in /home/daniellizarazo/Repositories/UTwente/DataScience/venv/lib/python3.13/site-packages (from earthengine-api>=0.1.304->geemap) (2.165.0)\n",
      "Requirement already satisfied: google-auth>=1.4.1 in /home/daniellizarazo/Repositories/UTwente/DataScience/venv/lib/python3.13/site-packages (from earthengine-api>=0.1.304->geemap) (2.38.0)\n",
      "Requirement already satisfied: google-auth-httplib2>=0.0.3 in /home/daniellizarazo/Repositories/UTwente/DataScience/venv/lib/python3.13/site-packages (from earthengine-api>=0.1.304->geemap) (0.2.0)\n",
      "Requirement already satisfied: httplib2<1dev,>=0.9.2 in /home/daniellizarazo/Repositories/UTwente/DataScience/venv/lib/python3.13/site-packages (from earthengine-api>=0.1.304->geemap) (0.22.0)\n",
      "Requirement already satisfied: requests in /home/daniellizarazo/Repositories/UTwente/DataScience/venv/lib/python3.13/site-packages (from earthengine-api>=0.1.304->geemap) (2.32.3)\n",
      "Requirement already satisfied: branca>=0.6.0 in /home/daniellizarazo/Repositories/UTwente/DataScience/venv/lib/python3.13/site-packages (from folium>=0.11.0->geemap) (0.8.1)\n",
      "Requirement already satisfied: jinja2>=2.9 in /home/daniellizarazo/Repositories/UTwente/DataScience/venv/lib/python3.13/site-packages (from folium>=0.11.0->geemap) (3.1.6)\n",
      "Requirement already satisfied: colorama>=0.4.6 in /home/daniellizarazo/Repositories/UTwente/DataScience/venv/lib/python3.13/site-packages (from geeadd>=0.5.1->geemap) (0.4.6)\n",
      "Requirement already satisfied: jsbeautifier>=1.15.1 in /home/daniellizarazo/Repositories/UTwente/DataScience/venv/lib/python3.13/site-packages (from geeadd>=0.5.1->geemap) (1.15.4)\n",
      "Requirement already satisfied: logzero>=1.7.0 in /home/daniellizarazo/Repositories/UTwente/DataScience/venv/lib/python3.13/site-packages (from geeadd>=0.5.1->geemap) (1.7.0)\n",
      "Requirement already satisfied: setuptools>=65.5.0 in /home/daniellizarazo/Repositories/UTwente/DataScience/venv/lib/python3.13/site-packages (from geeadd>=0.5.1->geemap) (76.0.0)\n",
      "Requirement already satisfied: tqdm>=4.66.5 in /home/daniellizarazo/Repositories/UTwente/DataScience/venv/lib/python3.13/site-packages (from geeadd>=0.5.1->geemap) (4.67.1)\n",
      "Requirement already satisfied: beautifulsoup4>=4.9.0 in /home/daniellizarazo/Repositories/UTwente/DataScience/venv/lib/python3.13/site-packages (from geeadd>=0.5.1->geemap) (4.13.3)\n",
      "Requirement already satisfied: decorator in /home/daniellizarazo/Repositories/UTwente/DataScience/venv/lib/python3.13/site-packages (from ipython>=7.23.1->ipykernel) (5.2.1)\n",
      "Requirement already satisfied: ipython-pygments-lexers in /home/daniellizarazo/Repositories/UTwente/DataScience/venv/lib/python3.13/site-packages (from ipython>=7.23.1->ipykernel) (1.1.1)\n",
      "Requirement already satisfied: jedi>=0.16 in /home/daniellizarazo/Repositories/UTwente/DataScience/venv/lib/python3.13/site-packages (from ipython>=7.23.1->ipykernel) (0.19.2)\n",
      "Requirement already satisfied: pexpect>4.3 in /home/daniellizarazo/Repositories/UTwente/DataScience/venv/lib/python3.13/site-packages (from ipython>=7.23.1->ipykernel) (4.9.0)\n",
      "Requirement already satisfied: prompt_toolkit<3.1.0,>=3.0.41 in /home/daniellizarazo/Repositories/UTwente/DataScience/venv/lib/python3.13/site-packages (from ipython>=7.23.1->ipykernel) (3.0.50)\n",
      "Requirement already satisfied: pygments>=2.4.0 in /home/daniellizarazo/Repositories/UTwente/DataScience/venv/lib/python3.13/site-packages (from ipython>=7.23.1->ipykernel) (2.19.1)\n",
      "Requirement already satisfied: stack_data in /home/daniellizarazo/Repositories/UTwente/DataScience/venv/lib/python3.13/site-packages (from ipython>=7.23.1->ipykernel) (0.6.3)\n",
      "Requirement already satisfied: ipython-genutils~=0.2.0 in /home/daniellizarazo/Repositories/UTwente/DataScience/venv/lib/python3.13/site-packages (from ipywidgets<8,>=7.6.0->ipyleaflet==0.16) (0.2.0)\n",
      "Requirement already satisfied: widgetsnbextension~=3.6.10 in /home/daniellizarazo/Repositories/UTwente/DataScience/venv/lib/python3.13/site-packages (from ipywidgets<8,>=7.6.0->ipyleaflet==0.16) (3.6.10)\n",
      "Requirement already satisfied: jupyterlab-widgets<3,>=1.0.0 in /home/daniellizarazo/Repositories/UTwente/DataScience/venv/lib/python3.13/site-packages (from ipywidgets<8,>=7.6.0->ipyleaflet==0.16) (1.1.11)\n",
      "Requirement already satisfied: python-dateutil>=2.8.2 in /home/daniellizarazo/Repositories/UTwente/DataScience/venv/lib/python3.13/site-packages (from jupyter-client>=6.1.12->ipykernel) (2.9.0.post0)\n",
      "Requirement already satisfied: platformdirs>=2.5 in /home/daniellizarazo/Repositories/UTwente/DataScience/venv/lib/python3.13/site-packages (from jupyter-core!=5.0.*,>=4.12->ipykernel) (4.3.6)\n",
      "Requirement already satisfied: async-lru>=1.0.0 in /home/daniellizarazo/Repositories/UTwente/DataScience/venv/lib/python3.13/site-packages (from jupyterlab>=3->geemap) (2.0.5)\n",
      "Requirement already satisfied: httpx>=0.25.0 in /home/daniellizarazo/Repositories/UTwente/DataScience/venv/lib/python3.13/site-packages (from jupyterlab>=3->geemap) (0.28.1)\n",
      "Requirement already satisfied: jupyter-lsp>=2.0.0 in /home/daniellizarazo/Repositories/UTwente/DataScience/venv/lib/python3.13/site-packages (from jupyterlab>=3->geemap) (2.2.5)\n",
      "Requirement already satisfied: jupyter-server<3,>=2.4.0 in /home/daniellizarazo/Repositories/UTwente/DataScience/venv/lib/python3.13/site-packages (from jupyterlab>=3->geemap) (2.15.0)\n",
      "Requirement already satisfied: jupyterlab-server<3,>=2.27.1 in /home/daniellizarazo/Repositories/UTwente/DataScience/venv/lib/python3.13/site-packages (from jupyterlab>=3->geemap) (2.27.3)\n",
      "Requirement already satisfied: notebook-shim>=0.2 in /home/daniellizarazo/Repositories/UTwente/DataScience/venv/lib/python3.13/site-packages (from jupyterlab>=3->geemap) (0.2.4)\n",
      "Requirement already satisfied: plotly>=5.2.2 in /home/daniellizarazo/Repositories/UTwente/DataScience/venv/lib/python3.13/site-packages (from sankee>=0.1.0->geemap) (6.0.1)\n",
      "Requirement already satisfied: whitebox in /home/daniellizarazo/Repositories/UTwente/DataScience/venv/lib/python3.13/site-packages (from whiteboxgui>=0.6.0->geemap) (2.3.6)\n",
      "Requirement already satisfied: pytz>=2020.1 in /home/daniellizarazo/Repositories/UTwente/DataScience/venv/lib/python3.13/site-packages (from pandas->geemap) (2025.1)\n",
      "Requirement already satisfied: tzdata>=2022.7 in /home/daniellizarazo/Repositories/UTwente/DataScience/venv/lib/python3.13/site-packages (from pandas->geemap) (2025.1)\n",
      "Requirement already satisfied: future in /home/daniellizarazo/Repositories/UTwente/DataScience/venv/lib/python3.13/site-packages (from ffmpeg-python->geemap) (1.0.0)\n",
      "Requirement already satisfied: filelock in /home/daniellizarazo/Repositories/UTwente/DataScience/venv/lib/python3.13/site-packages (from gdown->geemap) (3.18.0)\n",
      "Requirement already satisfied: click in /home/daniellizarazo/Repositories/UTwente/DataScience/venv/lib/python3.13/site-packages (from geocoder->geemap) (8.1.8)\n",
      "Requirement already satisfied: ratelim in /home/daniellizarazo/Repositories/UTwente/DataScience/venv/lib/python3.13/site-packages (from geocoder->geemap) (0.1.6)\n",
      "Requirement already satisfied: six in /home/daniellizarazo/Repositories/UTwente/DataScience/venv/lib/python3.13/site-packages (from geocoder->geemap) (1.17.0)\n",
      "Requirement already satisfied: contourpy>=1.0.1 in /home/daniellizarazo/Repositories/UTwente/DataScience/venv/lib/python3.13/site-packages (from matplotlib->geemap) (1.3.1)\n",
      "Requirement already satisfied: cycler>=0.10 in /home/daniellizarazo/Repositories/UTwente/DataScience/venv/lib/python3.13/site-packages (from matplotlib->geemap) (0.12.1)\n",
      "Requirement already satisfied: fonttools>=4.22.0 in /home/daniellizarazo/Repositories/UTwente/DataScience/venv/lib/python3.13/site-packages (from matplotlib->geemap) (4.56.0)\n",
      "Requirement already satisfied: kiwisolver>=1.3.1 in /home/daniellizarazo/Repositories/UTwente/DataScience/venv/lib/python3.13/site-packages (from matplotlib->geemap) (1.4.8)\n",
      "Requirement already satisfied: pyparsing>=2.3.1 in /home/daniellizarazo/Repositories/UTwente/DataScience/venv/lib/python3.13/site-packages (from matplotlib->geemap) (3.2.1)\n",
      "Requirement already satisfied: soupsieve>1.2 in /home/daniellizarazo/Repositories/UTwente/DataScience/venv/lib/python3.13/site-packages (from beautifulsoup4>=4.9.0->geeadd>=0.5.1->geemap) (2.6)\n",
      "Requirement already satisfied: typing-extensions>=4.0.0 in /home/daniellizarazo/Repositories/UTwente/DataScience/venv/lib/python3.13/site-packages (from beautifulsoup4>=4.9.0->geeadd>=0.5.1->geemap) (4.12.2)\n",
      "Requirement already satisfied: google-api-core!=2.0.*,!=2.1.*,!=2.2.*,!=2.3.0,<3.0.0,>=1.31.5 in /home/daniellizarazo/Repositories/UTwente/DataScience/venv/lib/python3.13/site-packages (from google-api-python-client>=1.12.1->earthengine-api>=0.1.304->geemap) (2.24.2)\n",
      "Requirement already satisfied: uritemplate<5,>=3.0.1 in /home/daniellizarazo/Repositories/UTwente/DataScience/venv/lib/python3.13/site-packages (from google-api-python-client>=1.12.1->earthengine-api>=0.1.304->geemap) (4.1.1)\n",
      "Requirement already satisfied: cachetools<6.0,>=2.0.0 in /home/daniellizarazo/Repositories/UTwente/DataScience/venv/lib/python3.13/site-packages (from google-auth>=1.4.1->earthengine-api>=0.1.304->geemap) (5.5.2)\n",
      "Requirement already satisfied: pyasn1-modules>=0.2.1 in /home/daniellizarazo/Repositories/UTwente/DataScience/venv/lib/python3.13/site-packages (from google-auth>=1.4.1->earthengine-api>=0.1.304->geemap) (0.4.1)\n",
      "Requirement already satisfied: rsa<5,>=3.1.4 in /home/daniellizarazo/Repositories/UTwente/DataScience/venv/lib/python3.13/site-packages (from google-auth>=1.4.1->earthengine-api>=0.1.304->geemap) (4.9)\n",
      "Requirement already satisfied: anyio in /home/daniellizarazo/Repositories/UTwente/DataScience/venv/lib/python3.13/site-packages (from httpx>=0.25.0->jupyterlab>=3->geemap) (4.9.0)\n",
      "Requirement already satisfied: certifi in /home/daniellizarazo/Repositories/UTwente/DataScience/venv/lib/python3.13/site-packages (from httpx>=0.25.0->jupyterlab>=3->geemap) (2025.1.31)\n",
      "Requirement already satisfied: httpcore==1.* in /home/daniellizarazo/Repositories/UTwente/DataScience/venv/lib/python3.13/site-packages (from httpx>=0.25.0->jupyterlab>=3->geemap) (1.0.7)\n",
      "Requirement already satisfied: idna in /home/daniellizarazo/Repositories/UTwente/DataScience/venv/lib/python3.13/site-packages (from httpx>=0.25.0->jupyterlab>=3->geemap) (3.10)\n",
      "Requirement already satisfied: h11<0.15,>=0.13 in /home/daniellizarazo/Repositories/UTwente/DataScience/venv/lib/python3.13/site-packages (from httpcore==1.*->httpx>=0.25.0->jupyterlab>=3->geemap) (0.14.0)\n",
      "Requirement already satisfied: parso<0.9.0,>=0.8.4 in /home/daniellizarazo/Repositories/UTwente/DataScience/venv/lib/python3.13/site-packages (from jedi>=0.16->ipython>=7.23.1->ipykernel) (0.8.4)\n",
      "Requirement already satisfied: MarkupSafe>=2.0 in /home/daniellizarazo/Repositories/UTwente/DataScience/venv/lib/python3.13/site-packages (from jinja2>=2.9->folium>=0.11.0->geemap) (3.0.2)\n",
      "Requirement already satisfied: editorconfig>=0.12.2 in /home/daniellizarazo/Repositories/UTwente/DataScience/venv/lib/python3.13/site-packages (from jsbeautifier>=1.15.1->geeadd>=0.5.1->geemap) (0.17.0)\n",
      "Requirement already satisfied: argon2-cffi>=21.1 in /home/daniellizarazo/Repositories/UTwente/DataScience/venv/lib/python3.13/site-packages (from jupyter-server<3,>=2.4.0->jupyterlab>=3->geemap) (23.1.0)\n",
      "Requirement already satisfied: jupyter-events>=0.11.0 in /home/daniellizarazo/Repositories/UTwente/DataScience/venv/lib/python3.13/site-packages (from jupyter-server<3,>=2.4.0->jupyterlab>=3->geemap) (0.12.0)\n",
      "Requirement already satisfied: jupyter-server-terminals>=0.4.4 in /home/daniellizarazo/Repositories/UTwente/DataScience/venv/lib/python3.13/site-packages (from jupyter-server<3,>=2.4.0->jupyterlab>=3->geemap) (0.5.3)\n",
      "Requirement already satisfied: nbconvert>=6.4.4 in /home/daniellizarazo/Repositories/UTwente/DataScience/venv/lib/python3.13/site-packages (from jupyter-server<3,>=2.4.0->jupyterlab>=3->geemap) (7.16.6)\n",
      "Requirement already satisfied: nbformat>=5.3.0 in /home/daniellizarazo/Repositories/UTwente/DataScience/venv/lib/python3.13/site-packages (from jupyter-server<3,>=2.4.0->jupyterlab>=3->geemap) (5.10.4)\n",
      "Requirement already satisfied: overrides>=5.0 in /home/daniellizarazo/Repositories/UTwente/DataScience/venv/lib/python3.13/site-packages (from jupyter-server<3,>=2.4.0->jupyterlab>=3->geemap) (7.7.0)\n",
      "Requirement already satisfied: prometheus-client>=0.9 in /home/daniellizarazo/Repositories/UTwente/DataScience/venv/lib/python3.13/site-packages (from jupyter-server<3,>=2.4.0->jupyterlab>=3->geemap) (0.21.1)\n",
      "Requirement already satisfied: send2trash>=1.8.2 in /home/daniellizarazo/Repositories/UTwente/DataScience/venv/lib/python3.13/site-packages (from jupyter-server<3,>=2.4.0->jupyterlab>=3->geemap) (1.8.3)\n",
      "Requirement already satisfied: terminado>=0.8.3 in /home/daniellizarazo/Repositories/UTwente/DataScience/venv/lib/python3.13/site-packages (from jupyter-server<3,>=2.4.0->jupyterlab>=3->geemap) (0.18.1)\n",
      "Requirement already satisfied: websocket-client>=1.7 in /home/daniellizarazo/Repositories/UTwente/DataScience/venv/lib/python3.13/site-packages (from jupyter-server<3,>=2.4.0->jupyterlab>=3->geemap) (1.8.0)\n",
      "Requirement already satisfied: babel>=2.10 in /home/daniellizarazo/Repositories/UTwente/DataScience/venv/lib/python3.13/site-packages (from jupyterlab-server<3,>=2.27.1->jupyterlab>=3->geemap) (2.17.0)\n",
      "Requirement already satisfied: json5>=0.9.0 in /home/daniellizarazo/Repositories/UTwente/DataScience/venv/lib/python3.13/site-packages (from jupyterlab-server<3,>=2.27.1->jupyterlab>=3->geemap) (0.10.0)\n",
      "Requirement already satisfied: jsonschema>=4.18.0 in /home/daniellizarazo/Repositories/UTwente/DataScience/venv/lib/python3.13/site-packages (from jupyterlab-server<3,>=2.27.1->jupyterlab>=3->geemap) (4.23.0)\n",
      "Requirement already satisfied: ptyprocess>=0.5 in /home/daniellizarazo/Repositories/UTwente/DataScience/venv/lib/python3.13/site-packages (from pexpect>4.3->ipython>=7.23.1->ipykernel) (0.7.0)\n",
      "Requirement already satisfied: narwhals>=1.15.1 in /home/daniellizarazo/Repositories/UTwente/DataScience/venv/lib/python3.13/site-packages (from plotly>=5.2.2->sankee>=0.1.0->geemap) (1.31.0)\n",
      "Requirement already satisfied: wcwidth in /home/daniellizarazo/Repositories/UTwente/DataScience/venv/lib/python3.13/site-packages (from prompt_toolkit<3.1.0,>=3.0.41->ipython>=7.23.1->ipykernel) (0.2.13)\n",
      "Requirement already satisfied: charset-normalizer<4,>=2 in /home/daniellizarazo/Repositories/UTwente/DataScience/venv/lib/python3.13/site-packages (from requests->earthengine-api>=0.1.304->geemap) (3.4.1)\n",
      "Requirement already satisfied: urllib3<3,>=1.21.1 in /home/daniellizarazo/Repositories/UTwente/DataScience/venv/lib/python3.13/site-packages (from requests->earthengine-api>=0.1.304->geemap) (2.3.0)\n",
      "Requirement already satisfied: notebook>=4.4.1 in /home/daniellizarazo/Repositories/UTwente/DataScience/venv/lib/python3.13/site-packages (from widgetsnbextension~=3.6.10->ipywidgets<8,>=7.6.0->ipyleaflet==0.16) (7.3.3)\n",
      "Requirement already satisfied: google-cloud-core<3.0dev,>=2.4.2 in /home/daniellizarazo/Repositories/UTwente/DataScience/venv/lib/python3.13/site-packages (from google-cloud-storage->earthengine-api>=0.1.304->geemap) (2.4.3)\n",
      "Requirement already satisfied: google-resumable-media>=2.7.2 in /home/daniellizarazo/Repositories/UTwente/DataScience/venv/lib/python3.13/site-packages (from google-cloud-storage->earthengine-api>=0.1.304->geemap) (2.7.2)\n",
      "Requirement already satisfied: google-crc32c<2.0dev,>=1.0 in /home/daniellizarazo/Repositories/UTwente/DataScience/venv/lib/python3.13/site-packages (from google-cloud-storage->earthengine-api>=0.1.304->geemap) (1.7.0)\n",
      "Requirement already satisfied: PySocks!=1.5.7,>=1.5.6 in /home/daniellizarazo/Repositories/UTwente/DataScience/venv/lib/python3.13/site-packages (from requests[socks]->gdown->geemap) (1.7.1)\n",
      "Requirement already satisfied: executing>=1.2.0 in /home/daniellizarazo/Repositories/UTwente/DataScience/venv/lib/python3.13/site-packages (from stack_data->ipython>=7.23.1->ipykernel) (2.2.0)\n",
      "Requirement already satisfied: asttokens>=2.1.0 in /home/daniellizarazo/Repositories/UTwente/DataScience/venv/lib/python3.13/site-packages (from stack_data->ipython>=7.23.1->ipykernel) (3.0.0)\n",
      "Requirement already satisfied: pure-eval in /home/daniellizarazo/Repositories/UTwente/DataScience/venv/lib/python3.13/site-packages (from stack_data->ipython>=7.23.1->ipykernel) (0.2.3)\n",
      "Requirement already satisfied: sniffio>=1.1 in /home/daniellizarazo/Repositories/UTwente/DataScience/venv/lib/python3.13/site-packages (from anyio->httpx>=0.25.0->jupyterlab>=3->geemap) (1.3.1)\n",
      "Requirement already satisfied: argon2-cffi-bindings in /home/daniellizarazo/Repositories/UTwente/DataScience/venv/lib/python3.13/site-packages (from argon2-cffi>=21.1->jupyter-server<3,>=2.4.0->jupyterlab>=3->geemap) (21.2.0)\n",
      "Requirement already satisfied: googleapis-common-protos<2.0.0,>=1.56.2 in /home/daniellizarazo/Repositories/UTwente/DataScience/venv/lib/python3.13/site-packages (from google-api-core!=2.0.*,!=2.1.*,!=2.2.*,!=2.3.0,<3.0.0,>=1.31.5->google-api-python-client>=1.12.1->earthengine-api>=0.1.304->geemap) (1.69.2)\n",
      "Requirement already satisfied: protobuf!=3.20.0,!=3.20.1,!=4.21.0,!=4.21.1,!=4.21.2,!=4.21.3,!=4.21.4,!=4.21.5,<7.0.0,>=3.19.5 in /home/daniellizarazo/Repositories/UTwente/DataScience/venv/lib/python3.13/site-packages (from google-api-core!=2.0.*,!=2.1.*,!=2.2.*,!=2.3.0,<3.0.0,>=1.31.5->google-api-python-client>=1.12.1->earthengine-api>=0.1.304->geemap) (6.30.1)\n",
      "Requirement already satisfied: proto-plus<2.0.0,>=1.22.3 in /home/daniellizarazo/Repositories/UTwente/DataScience/venv/lib/python3.13/site-packages (from google-api-core!=2.0.*,!=2.1.*,!=2.2.*,!=2.3.0,<3.0.0,>=1.31.5->google-api-python-client>=1.12.1->earthengine-api>=0.1.304->geemap) (1.26.1)\n",
      "Requirement already satisfied: attrs>=22.2.0 in /home/daniellizarazo/Repositories/UTwente/DataScience/venv/lib/python3.13/site-packages (from jsonschema>=4.18.0->jupyterlab-server<3,>=2.27.1->jupyterlab>=3->geemap) (25.3.0)\n",
      "Requirement already satisfied: jsonschema-specifications>=2023.03.6 in /home/daniellizarazo/Repositories/UTwente/DataScience/venv/lib/python3.13/site-packages (from jsonschema>=4.18.0->jupyterlab-server<3,>=2.27.1->jupyterlab>=3->geemap) (2024.10.1)\n",
      "Requirement already satisfied: referencing>=0.28.4 in /home/daniellizarazo/Repositories/UTwente/DataScience/venv/lib/python3.13/site-packages (from jsonschema>=4.18.0->jupyterlab-server<3,>=2.27.1->jupyterlab>=3->geemap) (0.36.2)\n",
      "Requirement already satisfied: rpds-py>=0.7.1 in /home/daniellizarazo/Repositories/UTwente/DataScience/venv/lib/python3.13/site-packages (from jsonschema>=4.18.0->jupyterlab-server<3,>=2.27.1->jupyterlab>=3->geemap) (0.23.1)\n",
      "Requirement already satisfied: python-json-logger>=2.0.4 in /home/daniellizarazo/Repositories/UTwente/DataScience/venv/lib/python3.13/site-packages (from jupyter-events>=0.11.0->jupyter-server<3,>=2.4.0->jupyterlab>=3->geemap) (3.3.0)\n",
      "Requirement already satisfied: pyyaml>=5.3 in /home/daniellizarazo/Repositories/UTwente/DataScience/venv/lib/python3.13/site-packages (from jupyter-events>=0.11.0->jupyter-server<3,>=2.4.0->jupyterlab>=3->geemap) (6.0.2)\n",
      "Requirement already satisfied: rfc3339-validator in /home/daniellizarazo/Repositories/UTwente/DataScience/venv/lib/python3.13/site-packages (from jupyter-events>=0.11.0->jupyter-server<3,>=2.4.0->jupyterlab>=3->geemap) (0.1.4)\n",
      "Requirement already satisfied: rfc3986-validator>=0.1.1 in /home/daniellizarazo/Repositories/UTwente/DataScience/venv/lib/python3.13/site-packages (from jupyter-events>=0.11.0->jupyter-server<3,>=2.4.0->jupyterlab>=3->geemap) (0.1.1)\n",
      "Requirement already satisfied: bleach!=5.0.0 in /home/daniellizarazo/Repositories/UTwente/DataScience/venv/lib/python3.13/site-packages (from bleach[css]!=5.0.0->nbconvert>=6.4.4->jupyter-server<3,>=2.4.0->jupyterlab>=3->geemap) (6.2.0)\n",
      "Requirement already satisfied: defusedxml in /home/daniellizarazo/Repositories/UTwente/DataScience/venv/lib/python3.13/site-packages (from nbconvert>=6.4.4->jupyter-server<3,>=2.4.0->jupyterlab>=3->geemap) (0.7.1)\n",
      "Requirement already satisfied: jupyterlab-pygments in /home/daniellizarazo/Repositories/UTwente/DataScience/venv/lib/python3.13/site-packages (from nbconvert>=6.4.4->jupyter-server<3,>=2.4.0->jupyterlab>=3->geemap) (0.3.0)\n",
      "Requirement already satisfied: mistune<4,>=2.0.3 in /home/daniellizarazo/Repositories/UTwente/DataScience/venv/lib/python3.13/site-packages (from nbconvert>=6.4.4->jupyter-server<3,>=2.4.0->jupyterlab>=3->geemap) (3.1.3)\n",
      "Requirement already satisfied: nbclient>=0.5.0 in /home/daniellizarazo/Repositories/UTwente/DataScience/venv/lib/python3.13/site-packages (from nbconvert>=6.4.4->jupyter-server<3,>=2.4.0->jupyterlab>=3->geemap) (0.10.2)\n",
      "Requirement already satisfied: pandocfilters>=1.4.1 in /home/daniellizarazo/Repositories/UTwente/DataScience/venv/lib/python3.13/site-packages (from nbconvert>=6.4.4->jupyter-server<3,>=2.4.0->jupyterlab>=3->geemap) (1.5.1)\n",
      "Requirement already satisfied: fastjsonschema>=2.15 in /home/daniellizarazo/Repositories/UTwente/DataScience/venv/lib/python3.13/site-packages (from nbformat>=5.3.0->jupyter-server<3,>=2.4.0->jupyterlab>=3->geemap) (2.21.1)\n",
      "Requirement already satisfied: pyasn1<0.7.0,>=0.4.6 in /home/daniellizarazo/Repositories/UTwente/DataScience/venv/lib/python3.13/site-packages (from pyasn1-modules>=0.2.1->google-auth>=1.4.1->earthengine-api>=0.1.304->geemap) (0.6.1)\n",
      "Requirement already satisfied: webencodings in /home/daniellizarazo/Repositories/UTwente/DataScience/venv/lib/python3.13/site-packages (from bleach!=5.0.0->bleach[css]!=5.0.0->nbconvert>=6.4.4->jupyter-server<3,>=2.4.0->jupyterlab>=3->geemap) (0.5.1)\n",
      "Requirement already satisfied: tinycss2<1.5,>=1.1.0 in /home/daniellizarazo/Repositories/UTwente/DataScience/venv/lib/python3.13/site-packages (from bleach[css]!=5.0.0->nbconvert>=6.4.4->jupyter-server<3,>=2.4.0->jupyterlab>=3->geemap) (1.4.0)\n",
      "Requirement already satisfied: fqdn in /home/daniellizarazo/Repositories/UTwente/DataScience/venv/lib/python3.13/site-packages (from jsonschema[format-nongpl]>=4.18.0->jupyter-events>=0.11.0->jupyter-server<3,>=2.4.0->jupyterlab>=3->geemap) (1.5.1)\n",
      "Requirement already satisfied: isoduration in /home/daniellizarazo/Repositories/UTwente/DataScience/venv/lib/python3.13/site-packages (from jsonschema[format-nongpl]>=4.18.0->jupyter-events>=0.11.0->jupyter-server<3,>=2.4.0->jupyterlab>=3->geemap) (20.11.0)\n",
      "Requirement already satisfied: jsonpointer>1.13 in /home/daniellizarazo/Repositories/UTwente/DataScience/venv/lib/python3.13/site-packages (from jsonschema[format-nongpl]>=4.18.0->jupyter-events>=0.11.0->jupyter-server<3,>=2.4.0->jupyterlab>=3->geemap) (3.0.0)\n",
      "Requirement already satisfied: uri-template in /home/daniellizarazo/Repositories/UTwente/DataScience/venv/lib/python3.13/site-packages (from jsonschema[format-nongpl]>=4.18.0->jupyter-events>=0.11.0->jupyter-server<3,>=2.4.0->jupyterlab>=3->geemap) (1.3.0)\n",
      "Requirement already satisfied: webcolors>=24.6.0 in /home/daniellizarazo/Repositories/UTwente/DataScience/venv/lib/python3.13/site-packages (from jsonschema[format-nongpl]>=4.18.0->jupyter-events>=0.11.0->jupyter-server<3,>=2.4.0->jupyterlab>=3->geemap) (24.11.1)\n",
      "Requirement already satisfied: cffi>=1.0.1 in /home/daniellizarazo/Repositories/UTwente/DataScience/venv/lib/python3.13/site-packages (from argon2-cffi-bindings->argon2-cffi>=21.1->jupyter-server<3,>=2.4.0->jupyterlab>=3->geemap) (1.17.1)\n",
      "Requirement already satisfied: pycparser in /home/daniellizarazo/Repositories/UTwente/DataScience/venv/lib/python3.13/site-packages (from cffi>=1.0.1->argon2-cffi-bindings->argon2-cffi>=21.1->jupyter-server<3,>=2.4.0->jupyterlab>=3->geemap) (2.22)\n",
      "Requirement already satisfied: arrow>=0.15.0 in /home/daniellizarazo/Repositories/UTwente/DataScience/venv/lib/python3.13/site-packages (from isoduration->jsonschema[format-nongpl]>=4.18.0->jupyter-events>=0.11.0->jupyter-server<3,>=2.4.0->jupyterlab>=3->geemap) (1.3.0)\n",
      "Requirement already satisfied: types-python-dateutil>=2.8.10 in /home/daniellizarazo/Repositories/UTwente/DataScience/venv/lib/python3.13/site-packages (from arrow>=0.15.0->isoduration->jsonschema[format-nongpl]>=4.18.0->jupyter-events>=0.11.0->jupyter-server<3,>=2.4.0->jupyterlab>=3->geemap) (2.9.0.20241206)\n",
      "\n",
      "\u001b[1m[\u001b[0m\u001b[34;49mnotice\u001b[0m\u001b[1;39;49m]\u001b[0m\u001b[39;49m A new release of pip is available: \u001b[0m\u001b[31;49m24.3.1\u001b[0m\u001b[39;49m -> \u001b[0m\u001b[32;49m25.0.1\u001b[0m\n",
      "\u001b[1m[\u001b[0m\u001b[34;49mnotice\u001b[0m\u001b[1;39;49m]\u001b[0m\u001b[39;49m To update, run: \u001b[0m\u001b[32;49mpip install --upgrade pip\u001b[0m\n",
      "Note: you may need to restart the kernel to use updated packages.\n",
      "Requirement already satisfied: rasterio in /home/daniellizarazo/Repositories/UTwente/DataScience/venv/lib/python3.13/site-packages (1.4.3)\n",
      "Requirement already satisfied: affine in /home/daniellizarazo/Repositories/UTwente/DataScience/venv/lib/python3.13/site-packages (from rasterio) (2.4.0)\n",
      "Requirement already satisfied: attrs in /home/daniellizarazo/Repositories/UTwente/DataScience/venv/lib/python3.13/site-packages (from rasterio) (25.3.0)\n",
      "Requirement already satisfied: certifi in /home/daniellizarazo/Repositories/UTwente/DataScience/venv/lib/python3.13/site-packages (from rasterio) (2025.1.31)\n",
      "Requirement already satisfied: click>=4.0 in /home/daniellizarazo/Repositories/UTwente/DataScience/venv/lib/python3.13/site-packages (from rasterio) (8.1.8)\n",
      "Requirement already satisfied: cligj>=0.5 in /home/daniellizarazo/Repositories/UTwente/DataScience/venv/lib/python3.13/site-packages (from rasterio) (0.7.2)\n",
      "Requirement already satisfied: numpy>=1.24 in /home/daniellizarazo/Repositories/UTwente/DataScience/venv/lib/python3.13/site-packages (from rasterio) (2.2.4)\n",
      "Requirement already satisfied: click-plugins in /home/daniellizarazo/Repositories/UTwente/DataScience/venv/lib/python3.13/site-packages (from rasterio) (1.1.1)\n",
      "Requirement already satisfied: pyparsing in /home/daniellizarazo/Repositories/UTwente/DataScience/venv/lib/python3.13/site-packages (from rasterio) (3.2.1)\n",
      "\n",
      "\u001b[1m[\u001b[0m\u001b[34;49mnotice\u001b[0m\u001b[1;39;49m]\u001b[0m\u001b[39;49m A new release of pip is available: \u001b[0m\u001b[31;49m24.3.1\u001b[0m\u001b[39;49m -> \u001b[0m\u001b[32;49m25.0.1\u001b[0m\n",
      "\u001b[1m[\u001b[0m\u001b[34;49mnotice\u001b[0m\u001b[1;39;49m]\u001b[0m\u001b[39;49m To update, run: \u001b[0m\u001b[32;49mpip install --upgrade pip\u001b[0m\n",
      "Note: you may need to restart the kernel to use updated packages.\n"
     ]
    }
   ],
   "source": [
    "%pip install earthengine-api\n",
    "%pip install ipykernel geemap ipyleaflet==0.16\n",
    "%pip install rasterio\n",
    "\n"
   ]
  },
  {
   "cell_type": "markdown",
   "id": "c4df8038-241c-49e9-8250-3ad6bff0b36d",
   "metadata": {},
   "source": [
    "## Authentication \n",
    "\n",
    "After importing `ee`, the `ee.Authenticate()` line should be run once to grant the notebook access to Earth Engine using your account. This triggers the authentication flow, which is easy to complete. [Here](https://developers.google.com/earth-engine/guides/python_install#authentication), you can find a step-by-step instructions.\n"
   ]
  },
  {
   "cell_type": "code",
   "execution_count": 2,
   "id": "1d6147a9-ac92-4ba0-a21d-1921d77257a6",
   "metadata": {},
   "outputs": [],
   "source": [
    "import ee\n",
    "\n",
    "# ee.Authenticate(auth_mode=\"notebook\")\n"
   ]
  },
  {
   "cell_type": "markdown",
   "id": "bf743d3d-bfc7-4e26-b11c-3ad61a2157ff",
   "metadata": {},
   "source": [
    "## Initializing \n",
    "\n",
    "Run the following scripts to initialize the API. You should see this message \"Google Earth Engine has initialized successfully!\""
   ]
  },
  {
   "cell_type": "code",
   "execution_count": 3,
   "id": "b6766408-8e90-4a66-b4ec-6abba1cebd6b",
   "metadata": {},
   "outputs": [
    {
     "name": "stdout",
     "output_type": "stream",
     "text": [
      "Google Earth Engine has initialized successfully!\n"
     ]
    }
   ],
   "source": [
    "try:\n",
    "    # Initialize the library.\n",
    "    ee.Initialize()\n",
    "    print('Google Earth Engine has initialized successfully!')\n",
    "except ee.EEException as e:\n",
    "    print('Google Earth Engine has failed to initialize!')\n",
    "except:\n",
    "    print(\"Unexpected error:\", sys.exc_info()[0])\n",
    "    raise"
   ]
  },
  {
   "cell_type": "markdown",
   "id": "d40934dd-e750-4a7b-97b0-d1ba2aa81da4",
   "metadata": {},
   "source": [
    "## Getting Data and Visualizing\n",
    "\n",
    "In the GEE, datasets can be of different types:\n",
    "\n",
    "- `ee.Feature`: a geometric object with a list of properties (vector data)\n",
    "- `ee.Image`: an image that may include several bands (raster data)\n",
    "- `ee.FeatureCollection`: groups of features\n",
    "- `ee.ImageCollection`: groups of images\n"
   ]
  },
  {
   "cell_type": "markdown",
   "id": "36163425-5731-4d68-9427-7eb2149b360f",
   "metadata": {},
   "source": [
    "Let's use the [geemap](https://geemap.org/) Python package for defining the study area and the visualization. geemap is a Python package for interactive mapping with GEE. For video tutorials and notebook examples for the geemap Python package, please visit the [examples page](https://github.com/giswqs/geemap/tree/master/examples). For complete documentation on geemap modules and methods, please visit the [API Reference](https://geemap.org/geemap/#geemap-tutorials)."
   ]
  },
  {
   "cell_type": "code",
   "execution_count": 4,
   "id": "d5ff7670-5014-4ca5-a6e1-742b3fa34c75",
   "metadata": {},
   "outputs": [],
   "source": [
    "import geemap\n",
    "# geemap.Report()"
   ]
  },
  {
   "cell_type": "markdown",
   "id": "af9bec95-2670-42e7-84ca-9f4bfc117dc3",
   "metadata": {},
   "source": [
    "Now let's call the interactive map from geemap to select a region or a point of interest. Please note that the following line opens a default basemap which is a Google Map (additional basemaps can be added using the `Map.add_basemap()` function)."
   ]
  },
  {
   "cell_type": "code",
   "execution_count": 22,
   "id": "ff6518db-cd1b-49d2-8ffe-e1c10a0000cd",
   "metadata": {},
   "outputs": [
    {
     "data": {
      "application/vnd.jupyter.widget-view+json": {
       "model_id": "db8c6cf6c2114702bda505874b58243b",
       "version_major": 2,
       "version_minor": 0
      },
      "text/plain": [
       "Map(center=[20, 0], controls=(WidgetControl(options=['position', 'transparent_bg'], widget=HBox(children=(Togg…"
      ]
     },
     "metadata": {},
     "output_type": "display_data"
    }
   ],
   "source": [
    "Map1 = geemap.Map()\n",
    "Map1"
   ]
  },
  {
   "cell_type": "markdown",
   "id": "2c3c880f-b6ee-4600-9c36-41251f2b4dc0",
   "metadata": {},
   "source": [
    "Now let's zoom in (using a mouse) to the region of Enschede. Using the bar at the left side of the map, select a rectangle on this map (i.e., covering Enschede  and surroundings). This region will appear as \"Drawn Features\" layer on this map. You can check it out using the tool icon on the top right corner of the map. Then, you can retrieve this region geometry using the following lines."
   ]
  },
  {
   "cell_type": "code",
   "execution_count": 23,
   "id": "47da4ba9-77ce-42b6-bc77-32d446e9aae4",
   "metadata": {
    "tags": []
   },
   "outputs": [
    {
     "data": {
      "text/plain": [
       "[[[-74.446793, 4.94355],\n",
       "  [-74.446793, 4.972795],\n",
       "  [-74.414692, 4.972795],\n",
       "  [-74.414692, 4.94355],\n",
       "  [-74.446793, 4.94355]]]"
      ]
     },
     "execution_count": 23,
     "metadata": {},
     "output_type": "execute_result"
    }
   ],
   "source": [
    "fc = ee.FeatureCollection(Map1.draw_last_feature)\n",
    "region = fc.geometry()\n",
    "cords = region.getInfo()['coordinates']\n",
    "cords"
   ]
  },
  {
   "cell_type": "code",
   "execution_count": 24,
   "id": "bef19c03-4347-49cf-a9db-be1e3ec80115",
   "metadata": {},
   "outputs": [],
   "source": [
    "# or alternatively use the following predefined rectangle\n",
    "# region = ee.Geometry.Polygon(\n",
    "# [[[6.815664, 52.17028],\n",
    "#   [6.815664, 52.25884],\n",
    "#   [6.969804, 52.25884],\n",
    "#   [6.969804, 52.17028],\n",
    "#   [6.815664, 52.17028]]]\n",
    "# )\n",
    "\n",
    "region = ee.Geometry.Polygon([[[-74.446793, 4.94355],\n",
    "  [-74.446793, 4.972795],\n",
    "  [-74.414692, 4.972795],\n",
    "  [-74.414692, 4.94355],\n",
    "  [-74.446793, 4.94355]]])"
   ]
  },
  {
   "cell_type": "markdown",
   "id": "1e33ad84-6beb-4c12-85fb-e924f6221003",
   "metadata": {},
   "source": [
    "Now it's the time to gather the Sentinel 2 images of this region. To know how to gather an specific data you can always check the [GEE data catalogue](https://developers.google.com/earth-engine/datasets). For example, according to the [Sentinel 2 satellite images catalogue ](https://developers.google.com/earth-engine/datasets/catalog/COPERNICUS_S2_SR_HARMONIZED), we can access these images using the \"ee.ImageCollection(\"COPERNICUS/S2_SR_HARMONIZED\")\" snippet."
   ]
  },
  {
   "cell_type": "markdown",
   "id": "14affd7c-f8ff-41aa-93f2-e123495ab15e",
   "metadata": {},
   "source": [
    "Now let's find a recent [Sentinel 2 Multispectral satellite image](https://developers.google.com/earth-engine/datasets/catalog/COPERNICUS_S2_SR_HARMONIZED) that covers the selected region during the last summer. Let's consider all the images with less than 10% cloud coverage. We don't want very cloudy images!"
   ]
  },
  {
   "cell_type": "code",
   "execution_count": 31,
   "id": "6c4bd949-964a-428b-a27d-fc0f67634aec",
   "metadata": {},
   "outputs": [],
   "source": [
    "myCollection = ee.ImageCollection('COPERNICUS/S2_SR_HARMONIZED') \\\n",
    "    .filterBounds(region) \\\n",
    "    .filterDate('2023-06-01', '2023-08-30') \\\n",
    "    .filterMetadata('CLOUDY_PIXEL_PERCENTAGE', 'less_than', 10)"
   ]
  },
  {
   "cell_type": "code",
   "execution_count": 32,
   "id": "06144274-21ba-4e3f-8190-f373b4257782",
   "metadata": {},
   "outputs": [
    {
     "name": "stdout",
     "output_type": "stream",
     "text": [
      "Number of images in the collection:  1\n"
     ]
    }
   ],
   "source": [
    "listOfImages = myCollection.aggregate_array('system:index').getInfo()\n",
    "print('Number of images in the collection: ', len(listOfImages))"
   ]
  },
  {
   "cell_type": "markdown",
   "id": "b0e1ca14-1ab1-4d78-9c03-de6c74b6047c",
   "metadata": {},
   "source": [
    "The first image and clip to the region and visualize it on the map.\n",
    "\n",
    "Often, we don't need a whole image for furthur analysis. We can simply crop an image and select a smaller part of an image for the region of interest. You can use [Clip](https://developers.google.com/earth-engine/apidocs/ee-image-clip) to a Geometry or Feature for selecting part of an image. The output bands correspond exactly to the input bands, except data not covered by the geometry is masked. The output image retains the metadata of the input image."
   ]
  },
  {
   "cell_type": "code",
   "execution_count": 33,
   "id": "508839a7-5fcf-43d4-9a0f-743dfa3aeef3",
   "metadata": {},
   "outputs": [],
   "source": [
    "img1 = myCollection.first().clip(region)"
   ]
  },
  {
   "cell_type": "code",
   "execution_count": 34,
   "id": "aebbe9b8-8f5d-40b6-8efe-5c481912d07b",
   "metadata": {},
   "outputs": [],
   "source": [
    "# Some visualization parameters: \n",
    "# - Values to map to 0 and values to map to 255. \n",
    "# - Three bands to be combined as an rgb image\n",
    "\n",
    "# You can try changing these parameters and check the result!\n",
    "\n",
    "# Min and max are based on reflectance\n",
    "# Below x displayed as black\n",
    "# above x displayed as white\n",
    "# b4 = red, b3, green, b2 blue\n",
    "\n",
    "vis_params = {\"min\": 300, \n",
    "              \"max\": 1000, \n",
    "              \"bands\": [\"B4\", \"B3\", \"B2\"]}  \n"
   ]
  },
  {
   "cell_type": "code",
   "execution_count": 35,
   "id": "1e96f1c1-ceaf-46bb-b8b1-304658734974",
   "metadata": {},
   "outputs": [
    {
     "data": {
      "application/vnd.jupyter.widget-view+json": {
       "model_id": "f07aa090fa4a4018a665e22e2adcdcf7",
       "version_major": 2,
       "version_minor": 0
      },
      "text/plain": [
       "Map(center=[20, 0], controls=(WidgetControl(options=['position', 'transparent_bg'], widget=HBox(children=(Togg…"
      ]
     },
     "metadata": {},
     "output_type": "display_data"
    }
   ],
   "source": [
    "Map2 = geemap.Map()\n",
    "Map2.addLayer(img1, vis_params, \"FirstImage\", True) \n",
    "Map2"
   ]
  },
  {
   "cell_type": "markdown",
   "id": "d0c79833-ba34-48e1-9ecf-8d21292d5948",
   "metadata": {},
   "source": [
    "Scroll and zoom to find the image!"
   ]
  },
  {
   "cell_type": "markdown",
   "id": "611ef382-eb0d-4bb3-83dc-54ce47c061ad",
   "metadata": {},
   "source": [
    "We can reduce an image collection by calculating the median of all values at each pixel across the stack of all matching bands."
   ]
  },
  {
   "cell_type": "code",
   "execution_count": 36,
   "id": "34e8f3d4-cae0-4f9c-8b6a-6d729df6bf44",
   "metadata": {},
   "outputs": [
    {
     "data": {
      "application/vnd.jupyter.widget-view+json": {
       "model_id": "f07aa090fa4a4018a665e22e2adcdcf7",
       "version_major": 2,
       "version_minor": 0
      },
      "text/plain": [
       "Map(bottom=1020089.0, center=[4.935500954491333, -74.41967010498048], controls=(WidgetControl(options=['positi…"
      ]
     },
     "metadata": {},
     "output_type": "display_data"
    }
   ],
   "source": [
    "img2 = myCollection.median().clip(region)\n",
    "Map2.addLayer(img2, vis_params, \"MedianImage\", True) \n",
    "Map2"
   ]
  },
  {
   "cell_type": "markdown",
   "id": "a83d524f-5238-43d7-9dc6-369ee58229a4",
   "metadata": {},
   "source": [
    "## Exporting the Data\n",
    "\n",
    "For exporting data out of GEE we suggest to use the [geemap python package tools](https://geemap.org/notebooks/11_export_image/#download-an-eeimage)."
   ]
  },
  {
   "cell_type": "code",
   "execution_count": 37,
   "id": "ec5021de-13fc-458b-ae35-2b9c72e7c029",
   "metadata": {},
   "outputs": [],
   "source": [
    "# Let's first import some needed libraries\n",
    "import os\n",
    "import rasterio\n",
    "import numpy as np\n",
    "import matplotlib.pyplot as plt"
   ]
  },
  {
   "cell_type": "code",
   "execution_count": 38,
   "id": "a78385ee-7afa-456c-a89d-4c2e58913e1f",
   "metadata": {},
   "outputs": [],
   "source": [
    "# let's create a Downloads folder and define a name for the data.\n",
    "\n",
    "out_dir = os.path.join(os.path.expanduser('~'), 'Downloads')\n",
    "filename = os.path.join(out_dir, 'Enschede.tif')"
   ]
  },
  {
   "cell_type": "code",
   "execution_count": 39,
   "id": "5f46ba0c-e691-486f-a42d-a506a00ab16e",
   "metadata": {},
   "outputs": [
    {
     "name": "stdout",
     "output_type": "stream",
     "text": [
      "Generating URL ...\n",
      "Downloading data from https://earthengine.googleapis.com/v1/projects/120635359908/thumbnails/eb01e57432c7c8b047f94a19bc2399b2-b7084f8370191d61aa647ecacac8176d:getPixels\n",
      "Please wait ...\n",
      "Data downloaded to /home/daniellizarazo/Downloads/Enschede.tif\n"
     ]
    }
   ],
   "source": [
    "# Exporting all bands as one single image\n",
    "# By \"file_per_band=True\" you can export each band as one image\n",
    "# With the \"scale\" parameter you can change the spatial resolution of the exported image. \n",
    "# Higher spatial resolution (lower scale) leads to longer downloading time.\n",
    "\n",
    "geemap.ee_export_image(\n",
    "    img2, filename=filename, scale=30, region=region, file_per_band=False\n",
    ")"
   ]
  },
  {
   "cell_type": "markdown",
   "id": "41fb4172-ef48-4ca7-af5c-e11e45825e19",
   "metadata": {},
   "source": [
    "\n",
    "Now let's check if the data has been downloaded. Remember that we can open the image (raster data) using rasterio and visualize it."
   ]
  },
  {
   "cell_type": "code",
   "execution_count": 40,
   "id": "1996ac7f-b0df-4e24-9029-8a79e3fcdd37",
   "metadata": {},
   "outputs": [
    {
     "name": "stdout",
     "output_type": "stream",
     "text": [
      "(110, 120, 12)\n"
     ]
    }
   ],
   "source": [
    "with rasterio.open(filename, 'r') as ds:\n",
    "    img = ds.read()  # read all raster values\n",
    "\n",
    "img = img[0:12,:,:] # 12 spectral bands\n",
    "img = np.transpose(img, [1, 2, 0]) # numpy array [row, col, bands]\n",
    "print(img.shape)  \n"
   ]
  },
  {
   "cell_type": "code",
   "execution_count": 41,
   "id": "2aa7aab7-b341-4e2b-ac19-1a3466109dc1",
   "metadata": {},
   "outputs": [
    {
     "name": "stdout",
     "output_type": "stream",
     "text": [
      "(110, 120, 3)\n"
     ]
    }
   ],
   "source": [
    "# B2-->Blue\n",
    "# B3-->Green\n",
    "# B4-->Red\n",
    "\n",
    "# remember the indexes in NumPy arrays start with 0 --> bands begin from 0!\n",
    "\n",
    "img_rgb = img[:,:,[3,2,1]]\n",
    "print(img_rgb.shape)"
   ]
  },
  {
   "cell_type": "code",
   "execution_count": 42,
   "id": "4204bba5-de0e-49ed-b499-07e9ea98d17a",
   "metadata": {},
   "outputs": [
    {
     "name": "stderr",
     "output_type": "stream",
     "text": [
      "Clipping input data to the valid range for imshow with RGB data ([0..1] for floats or [0..255] for integers). Got range [0.0..5.0].\n"
     ]
    },
    {
     "data": {
      "text/plain": [
       "<matplotlib.image.AxesImage at 0x7e7fc6b882d0>"
      ]
     },
     "execution_count": 42,
     "metadata": {},
     "output_type": "execute_result"
    },
    {
     "data": {
      "image/png": "[encoded data removed]",
      "text/plain": [
       "<Figure size 640x480 with 1 Axes>"
      ]
     },
     "metadata": {},
     "output_type": "display_data"
    }
   ],
   "source": [
    "# This function normalizes each rgb band and helps you to have a better visualization.\n",
    "\n",
    "def MyNormalize(img_i,sigma):\n",
    "    nr,nc,nb = img_i.shape\n",
    "    img_n = np.zeros(shape=(nr,nc,nb))\n",
    "    for i in range(0,nb):\n",
    "        one_band = img_i[:,:,i]\n",
    "        mi = np.min(one_band)\n",
    "        ma = np.max(one_band)\n",
    "        one_band = (one_band-mi)/(ma-mi+np.finfo(float).eps)\n",
    "        img_n[:,:,i] = sigma*one_band\n",
    "    return img_n\n",
    "\n",
    "plt.imshow(MyNormalize(img_rgb,5))"
   ]
  },
  {
   "cell_type": "markdown",
   "id": "91841dcb-619e-448b-8b8a-6840bbc9ddae",
   "metadata": {},
   "source": [
    "You can also export an image to Google Drive using the following line of code. This could be useful for example for big images. Moreover, you can download an image collection using geemap tools. See [this tutorial](https://geemap.org/notebooks/11_export_image/#exporting-all-bands-as-one-single-image) for more details."
   ]
  },
  {
   "cell_type": "code",
   "execution_count": null,
   "id": "4896bc4d-747b-4ead-b8ec-fd3f5e66790c",
   "metadata": {},
   "outputs": [],
   "source": [
    "geemap.ee_export_image_to_drive(\n",
    "    img2, description=filename, folder=\"export\", region=region, scale=30\n",
    ")"
   ]
  }
 ],
 "metadata": {
  "kernelspec": {
   "display_name": "Python 3 (ipykernel)",
   "language": "python",
   "name": "python3"
  },
  "language_info": {
   "codemirror_mode": {
    "name": "ipython",
    "version": 3
   },
   "file_extension": ".py",
   "mimetype": "text/x-python",
   "name": "python",
   "nbconvert_exporter": "python",
   "pygments_lexer": "ipython3",
   "version": "3.13.2"
  }
 },
 "nbformat": 4,
 "nbformat_minor": 5
}
