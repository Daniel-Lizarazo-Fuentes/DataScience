{
 "cells": [
  {
   "cell_type": "markdown",
   "id": "6fdfc8f1-5f67-485d-9fc9-22c9cc6be6d0",
   "metadata": {},
   "source": [
    "# Satellite data access through Google Earth Engine\n",
    "\n",
    "Mahdi Khodadadzadeh\n",
    "October 2022\n"
   ]
  },
  {
   "cell_type": "markdown",
   "id": "e625e3ee-4985-4480-aed9-734b50c1be53",
   "metadata": {},
   "source": [
    "In this notebook, you will practice some functionalities of the the Google Earth Engine Python API. This exercise is prepared with some materials from this [tutorial](https://developers.google.com/earth-engine/tutorials/community/intro-to-python-api). "
   ]
  },
  {
   "cell_type": "markdown",
   "id": "c488971e-1ab1-4e7a-9425-086745e1c766",
   "metadata": {},
   "source": [
    "## What is GEE?"
   ]
  },
  {
   "cell_type": "markdown",
   "id": "99d86ffa-b660-429f-95e5-3c6e247a13d4",
   "metadata": {},
   "source": [
    "[GEE](https://earthengine.google.com/) combines a multi-petabyte catalog of satellite imagery and geospatial datasets with planetary-scale analysis capabilities. Scientists, researchers, and developers use Earth Engine to detect changes, map trends, and quantify differences on the Earth's surface. Earth Engine is now available for commercial use, and remains **free for academic and research use**. Particularly, GEE provides petabyte-scale catalog of public and free-to-use geospatial datasets. Visit the [Earth Engine Data Catalog](https://developers.google.com/earth-engine/datasets/catalog) and explore datasets using the search bar or browsing by tag.\n",
    "\n",
    "To use GEE you need to connect to the Earth Engine service through one of the APIs. In this tutorial we will use the Python API. See [here](https://developers.google.com/earth-engine) to know more about all the available APIs.\n",
    "\n",
    "To connect to the GEE APIs, you need to have an active GEE account. You can sign up for GEE if you don’t have an active account yet. Go [here](https://code.earthengine.google.com/) and create or link your current Google account to a new account of GEE. Then, GEE will request access to your Google account, that you need to allow it. After that, you need to fill out an application form and submit it. Once you successfully submit the form, you will receive a \"Thank You\" message. Then you need to keep an eye on your gmail inbox to receive a \"Welcome to Google Earth Engine!\" email, which confirms that you are able to login using your Google account on \"code.earthengine.google.com\" and to use any GEE API. It will take a few minutes, more rarely some days.\n"
   ]
  },
  {
   "cell_type": "code",
   "execution_count": null,
   "id": "88ae2e0d",
   "metadata": {},
   "outputs": [
    {
     "name": "stdout",
     "output_type": "stream",
     "text": [
      "Collecting earthengine-api\n",
      "  Using cached earthengine_api-1.5.8-py3-none-any.whl (459 kB)\n",
      "Collecting google-cloud-storage\n",
      "  Using cached google_cloud_storage-3.1.0-py2.py3-none-any.whl (174 kB)\n",
      "Collecting google-api-python-client>=1.12.1\n",
      "  Using cached google_api_python_client-2.166.0-py2.py3-none-any.whl (13.2 MB)\n",
      "Collecting google-auth>=1.4.1\n",
      "  Using cached google_auth-2.38.0-py2.py3-none-any.whl (210 kB)\n",
      "Collecting google-auth-httplib2>=0.0.3\n",
      "  Using cached google_auth_httplib2-0.2.0-py2.py3-none-any.whl (9.3 kB)\n",
      "Collecting httplib2<1dev,>=0.9.2\n",
      "  Using cached httplib2-0.22.0-py3-none-any.whl (96 kB)\n",
      "Collecting requests\n",
      "  Using cached requests-2.32.3-py3-none-any.whl (64 kB)\n",
      "Collecting google-api-core!=2.0.*,!=2.1.*,!=2.2.*,!=2.3.0,<3.0.0,>=1.31.5\n",
      "  Using cached google_api_core-2.24.2-py3-none-any.whl (160 kB)\n",
      "Collecting uritemplate<5,>=3.0.1\n",
      "  Using cached uritemplate-4.1.1-py2.py3-none-any.whl (10 kB)\n",
      "Collecting cachetools<6.0,>=2.0.0\n",
      "  Downloading cachetools-5.5.2-py3-none-any.whl (10 kB)\n",
      "Collecting pyasn1-modules>=0.2.1\n",
      "  Using cached pyasn1_modules-0.4.1-py3-none-any.whl (181 kB)\n",
      "Collecting rsa<5,>=3.1.4\n",
      "  Using cached rsa-4.9-py3-none-any.whl (34 kB)\n",
      "Collecting pyparsing!=3.0.0,!=3.0.1,!=3.0.2,!=3.0.3,<4,>=2.4.2\n",
      "  Downloading pyparsing-3.2.3-py3-none-any.whl (111 kB)\n",
      "     -------------------------------------- 111.1/111.1 kB 6.7 MB/s eta 0:00:00\n",
      "Collecting google-cloud-core<3.0dev,>=2.4.2\n",
      "  Using cached google_cloud_core-2.4.3-py2.py3-none-any.whl (29 kB)\n",
      "Collecting google-resumable-media>=2.7.2\n",
      "  Using cached google_resumable_media-2.7.2-py2.py3-none-any.whl (81 kB)\n",
      "Collecting google-crc32c<2.0dev,>=1.0\n",
      "  Downloading google_crc32c-1.7.1-cp311-cp311-win_amd64.whl (33 kB)\n",
      "Collecting charset-normalizer<4,>=2\n",
      "  Using cached charset_normalizer-3.4.1-cp311-cp311-win_amd64.whl (102 kB)\n",
      "Collecting idna<4,>=2.5\n",
      "  Using cached idna-3.10-py3-none-any.whl (70 kB)\n",
      "Collecting urllib3<3,>=1.21.1\n",
      "  Using cached urllib3-2.3.0-py3-none-any.whl (128 kB)\n",
      "Collecting certifi>=2017.4.17\n",
      "  Using cached certifi-2025.1.31-py3-none-any.whl (166 kB)\n",
      "Collecting googleapis-common-protos<2.0.0,>=1.56.2\n",
      "  Using cached googleapis_common_protos-1.69.2-py3-none-any.whl (293 kB)\n",
      "Collecting protobuf!=3.20.0,!=3.20.1,!=4.21.0,!=4.21.1,!=4.21.2,!=4.21.3,!=4.21.4,!=4.21.5,<7.0.0,>=3.19.5\n",
      "  Downloading protobuf-6.30.2-cp310-abi3-win_amd64.whl (431 kB)\n",
      "     ------------------------------------- 431.0/431.0 kB 26.3 MB/s eta 0:00:00\n",
      "Collecting proto-plus<2.0.0,>=1.22.3\n",
      "  Using cached proto_plus-1.26.1-py3-none-any.whl (50 kB)\n",
      "Collecting pyasn1<0.7.0,>=0.4.6\n",
      "  Using cached pyasn1-0.6.1-py3-none-any.whl (83 kB)\n",
      "Installing collected packages: urllib3, uritemplate, pyparsing, pyasn1, protobuf, idna, google-crc32c, charset-normalizer, certifi, cachetools, rsa, requests, pyasn1-modules, proto-plus, httplib2, googleapis-common-protos, google-resumable-media, google-auth, google-auth-httplib2, google-api-core, google-cloud-core, google-api-python-client, google-cloud-storage, earthengine-api\n",
      "Successfully installed cachetools-5.5.2 certifi-2025.1.31 charset-normalizer-3.4.1 earthengine-api-1.5.8 google-api-core-2.24.2 google-api-python-client-2.166.0 google-auth-2.38.0 google-auth-httplib2-0.2.0 google-cloud-core-2.4.3 google-cloud-storage-3.1.0 google-crc32c-1.7.1 google-resumable-media-2.7.2 googleapis-common-protos-1.69.2 httplib2-0.22.0 idna-3.10 proto-plus-1.26.1 protobuf-6.30.2 pyasn1-0.6.1 pyasn1-modules-0.4.1 pyparsing-3.2.3 requests-2.32.3 rsa-4.9 uritemplate-4.1.1 urllib3-2.3.0\n",
      "Note: you may need to restart the kernel to use updated packages.\n"
     ]
    },
    {
     "name": "stderr",
     "output_type": "stream",
     "text": [
      "\n",
      "[notice] A new release of pip available: 22.3.1 -> 25.0.1\n",
      "[notice] To update, run: c:\\Users\\danie\\Documents\\Programming\\Uni\\DataScience\\venv\\Scripts\\python.exe -m pip install --upgrade pip\n"
     ]
    },
    {
     "name": "stdout",
     "output_type": "stream",
     "text": [
      "^C\n",
      "Note: you may need to restart the kernel to use updated packages.\n",
      "Collecting rasterio\n",
      "  Using cached rasterio-1.4.3-cp311-cp311-win_amd64.whl (25.5 MB)\n",
      "Collecting affine\n",
      "  Using cached affine-2.4.0-py3-none-any.whl (15 kB)\n",
      "Collecting attrs\n",
      "  Downloading attrs-25.3.0-py3-none-any.whl (63 kB)\n",
      "     ---------------------------------------- 63.8/63.8 kB 1.7 MB/s eta 0:00:00\n",
      "Requirement already satisfied: certifi in c:\\users\\danie\\documents\\programming\\uni\\datascience\\venv\\lib\\site-packages (from rasterio) (2025.1.31)\n",
      "Requirement already satisfied: click>=4.0 in c:\\users\\danie\\documents\\programming\\uni\\datascience\\venv\\lib\\site-packages (from rasterio) (8.1.8)\n",
      "Collecting cligj>=0.5\n",
      "  Using cached cligj-0.7.2-py3-none-any.whl (7.1 kB)\n",
      "Requirement already satisfied: numpy>=1.24 in c:\\users\\danie\\documents\\programming\\uni\\datascience\\venv\\lib\\site-packages (from rasterio) (2.2.4)\n",
      "Collecting click-plugins\n",
      "  Using cached click_plugins-1.1.1-py2.py3-none-any.whl (7.5 kB)\n",
      "Requirement already satisfied: pyparsing in c:\\users\\danie\\documents\\programming\\uni\\datascience\\venv\\lib\\site-packages (from rasterio) (3.2.3)\n",
      "Requirement already satisfied: colorama in c:\\users\\danie\\documents\\programming\\uni\\datascience\\venv\\lib\\site-packages (from click>=4.0->rasterio) (0.4.6)\n",
      "Installing collected packages: attrs, affine, cligj, click-plugins, rasterio\n",
      "Successfully installed affine-2.4.0 attrs-25.3.0 click-plugins-1.1.1 cligj-0.7.2 rasterio-1.4.3\n",
      "Note: you may need to restart the kernel to use updated packages.\n"
     ]
    },
    {
     "name": "stderr",
     "output_type": "stream",
     "text": [
      "\n",
      "[notice] A new release of pip available: 22.3.1 -> 25.0.1\n",
      "[notice] To update, run: c:\\Users\\danie\\Documents\\Programming\\Uni\\DataScience\\venv\\Scripts\\python.exe -m pip install --upgrade pip\n"
     ]
    }
   ],
   "source": [
    "%pip install earthengine-api\n",
    "%pip install ipykernel geemap ipyleaflet\n",
    "%pip install rasterio\n",
    "%pip install geemap"
   ]
  },
  {
   "cell_type": "markdown",
   "id": "c4df8038-241c-49e9-8250-3ad6bff0b36d",
   "metadata": {},
   "source": [
    "## Authentication \n",
    "\n",
    "After importing `ee`, the `ee.Authenticate()` line should be run once to grant the notebook access to Earth Engine using your account. This triggers the authentication flow, which is easy to complete. [Here](https://developers.google.com/earth-engine/guides/python_install#authentication), you can find a step-by-step instructions.\n"
   ]
  },
  {
   "cell_type": "code",
   "execution_count": 1,
   "id": "2cf8f8e5",
   "metadata": {},
   "outputs": [],
   "source": [
    "import ee"
   ]
  },
  {
   "cell_type": "code",
   "execution_count": null,
   "id": "1d6147a9-ac92-4ba0-a21d-1921d77257a6",
   "metadata": {},
   "outputs": [
    {
     "data": {
      "text/html": [
       "<p>To authorize access needed by Earth Engine, open the following\n",
       "        URL in a web browser and follow the instructions:</p>\n",
       "        <p><a href=https://code.earthengine.google.com/client-auth?scopes=https%3A//www.googleapis.com/auth/earthengine%20https%3A//www.googleapis.com/auth/cloud-platform%20https%3A//www.googleapis.com/auth/devstorage.full_control&request_id=ZazLL6jO_14dpRTwRwtCc_nWy8RvX8U7wJxHFDz3Log&tc=NgIfD-G16g6mTBkAS0n-A1AkPGxxF4z4L4PQhWjfe1I&cc=IMJ76UtAvS3L7MtSPHVqrcznU1CQDwnugNeP-GEynzo>https://code.earthengine.google.com/client-auth?scopes=https%3A//www.googleapis.com/auth/earthengine%20https%3A//www.googleapis.com/auth/cloud-platform%20https%3A//www.googleapis.com/auth/devstorage.full_control&request_id=ZazLL6jO_14dpRTwRwtCc_nWy8RvX8U7wJxHFDz3Log&tc=NgIfD-G16g6mTBkAS0n-A1AkPGxxF4z4L4PQhWjfe1I&cc=IMJ76UtAvS3L7MtSPHVqrcznU1CQDwnugNeP-GEynzo</a></p>\n",
       "        <p>The authorization workflow will generate a code, which you should paste in the box below.</p>\n",
       "        "
      ],
      "text/plain": [
       "<IPython.core.display.HTML object>"
      ]
     },
     "metadata": {},
     "output_type": "display_data"
    },
    {
     "name": "stdout",
     "output_type": "stream",
     "text": [
      "\n",
      "Successfully saved authorization token.\n"
     ]
    }
   ],
   "source": [
    "ee.Authenticate(auth_mode=\"notebook\")\n"
   ]
  },
  {
   "cell_type": "markdown",
   "id": "bf743d3d-bfc7-4e26-b11c-3ad61a2157ff",
   "metadata": {},
   "source": [
    "## Initializing \n",
    "\n",
    "Run the following scripts to initialize the API. You should see this message \"Google Earth Engine has initialized successfully!\""
   ]
  },
  {
   "cell_type": "code",
   "execution_count": 2,
   "id": "b6766408-8e90-4a66-b4ec-6abba1cebd6b",
   "metadata": {},
   "outputs": [
    {
     "name": "stdout",
     "output_type": "stream",
     "text": [
      "Google Earth Engine has initialized successfully!\n"
     ]
    }
   ],
   "source": [
    "try:\n",
    "    # Initialize the library.\n",
    "    ee.Initialize()\n",
    "    print('Google Earth Engine has initialized successfully!')\n",
    "except ee.EEException as e:\n",
    "    print('Google Earth Engine has failed to initialize!')\n",
    "except:\n",
    "    print(\"Unexpected error:\", sys.exc_info()[0])\n",
    "    raise"
   ]
  },
  {
   "cell_type": "markdown",
   "id": "d40934dd-e750-4a7b-97b0-d1ba2aa81da4",
   "metadata": {},
   "source": [
    "## Getting Data and Visualizing\n",
    "\n",
    "In the GEE, datasets can be of different types:\n",
    "\n",
    "- `ee.Feature`: a geometric object with a list of properties (vector data)\n",
    "- `ee.Image`: an image that may include several bands (raster data)\n",
    "- `ee.FeatureCollection`: groups of features\n",
    "- `ee.ImageCollection`: groups of images\n"
   ]
  },
  {
   "cell_type": "markdown",
   "id": "36163425-5731-4d68-9427-7eb2149b360f",
   "metadata": {},
   "source": [
    "Let's use the [geemap](https://geemap.org/) Python package for defining the study area and the visualization. geemap is a Python package for interactive mapping with GEE. For video tutorials and notebook examples for the geemap Python package, please visit the [examples page](https://github.com/giswqs/geemap/tree/master/examples). For complete documentation on geemap modules and methods, please visit the [API Reference](https://geemap.org/geemap/#geemap-tutorials)."
   ]
  },
  {
   "cell_type": "code",
   "execution_count": 3,
   "id": "d5ff7670-5014-4ca5-a6e1-742b3fa34c75",
   "metadata": {},
   "outputs": [],
   "source": [
    "import geemap\n",
    "# geemap.Report()"
   ]
  },
  {
   "cell_type": "markdown",
   "id": "af9bec95-2670-42e7-84ca-9f4bfc117dc3",
   "metadata": {},
   "source": [
    "Now let's call the interactive map from geemap to select a region or a point of interest. Please note that the following line opens a default basemap which is a Google Map (additional basemaps can be added using the `Map.add_basemap()` function)."
   ]
  },
  {
   "cell_type": "code",
   "execution_count": 4,
   "id": "ff6518db-cd1b-49d2-8ffe-e1c10a0000cd",
   "metadata": {},
   "outputs": [
    {
     "data": {
      "text/html": [
       "\n",
       "            <style>\n",
       "                .geemap-dark {\n",
       "                    --jp-widgets-color: white;\n",
       "                    --jp-widgets-label-color: white;\n",
       "                    --jp-ui-font-color1: white;\n",
       "                    --jp-layout-color2: #454545;\n",
       "                    background-color: #383838;\n",
       "                }\n",
       "\n",
       "                .geemap-dark .jupyter-button {\n",
       "                    --jp-layout-color3: #383838;\n",
       "                }\n",
       "\n",
       "                .geemap-colab {\n",
       "                    background-color: var(--colab-primary-surface-color, white);\n",
       "                }\n",
       "\n",
       "                .geemap-colab .jupyter-button {\n",
       "                    --jp-layout-color3: var(--colab-primary-surface-color, white);\n",
       "                }\n",
       "            </style>\n",
       "            "
      ],
      "text/plain": [
       "<IPython.core.display.HTML object>"
      ]
     },
     "metadata": {},
     "output_type": "display_data"
    },
    {
     "data": {
      "application/vnd.jupyter.widget-view+json": {
       "model_id": "8b34bacaa3834fed92d30e1d7f06d833",
       "version_major": 2,
       "version_minor": 0
      },
      "text/plain": [
       "Map(center=[0, 0], controls=(WidgetControl(options=['position', 'transparent_bg'], widget=SearchDataGUI(childr…"
      ]
     },
     "execution_count": 4,
     "metadata": {},
     "output_type": "execute_result"
    }
   ],
   "source": [
    "Map1 = geemap.Map()\n",
    "Map1"
   ]
  },
  {
   "cell_type": "markdown",
   "id": "2c3c880f-b6ee-4600-9c36-41251f2b4dc0",
   "metadata": {},
   "source": [
    "Now let's zoom in (using a mouse) to the region of Enschede. Using the bar at the left side of the map, select a rectangle on this map (i.e., covering Enschede  and surroundings). This region will appear as \"Drawn Features\" layer on this map. You can check it out using the tool icon on the top right corner of the map. Then, you can retrieve this region geometry using the following lines."
   ]
  },
  {
   "cell_type": "code",
   "execution_count": 5,
   "id": "47da4ba9-77ce-42b6-bc77-32d446e9aae4",
   "metadata": {
    "tags": []
   },
   "outputs": [
    {
     "data": {
      "text/html": [
       "\n",
       "            <style>\n",
       "                .geemap-dark {\n",
       "                    --jp-widgets-color: white;\n",
       "                    --jp-widgets-label-color: white;\n",
       "                    --jp-ui-font-color1: white;\n",
       "                    --jp-layout-color2: #454545;\n",
       "                    background-color: #383838;\n",
       "                }\n",
       "\n",
       "                .geemap-dark .jupyter-button {\n",
       "                    --jp-layout-color3: #383838;\n",
       "                }\n",
       "\n",
       "                .geemap-colab {\n",
       "                    background-color: var(--colab-primary-surface-color, white);\n",
       "                }\n",
       "\n",
       "                .geemap-colab .jupyter-button {\n",
       "                    --jp-layout-color3: var(--colab-primary-surface-color, white);\n",
       "                }\n",
       "            </style>\n",
       "            "
      ],
      "text/plain": [
       "<IPython.core.display.HTML object>"
      ]
     },
     "metadata": {},
     "output_type": "display_data"
    },
    {
     "data": {
      "text/plain": [
       "[[[-74.463272, 4.942695],\n",
       "  [-74.463272, 4.984424],\n",
       "  [-74.402847, 4.984424],\n",
       "  [-74.402847, 4.942695],\n",
       "  [-74.463272, 4.942695]]]"
      ]
     },
     "execution_count": 5,
     "metadata": {},
     "output_type": "execute_result"
    }
   ],
   "source": [
    "fc = ee.FeatureCollection(Map1.draw_last_feature)\n",
    "region = fc.geometry()\n",
    "cords = region.getInfo()['coordinates']\n",
    "cords"
   ]
  },
  {
   "cell_type": "code",
   "execution_count": 6,
   "id": "bef19c03-4347-49cf-a9db-be1e3ec80115",
   "metadata": {},
   "outputs": [
    {
     "data": {
      "text/html": [
       "\n",
       "            <style>\n",
       "                .geemap-dark {\n",
       "                    --jp-widgets-color: white;\n",
       "                    --jp-widgets-label-color: white;\n",
       "                    --jp-ui-font-color1: white;\n",
       "                    --jp-layout-color2: #454545;\n",
       "                    background-color: #383838;\n",
       "                }\n",
       "\n",
       "                .geemap-dark .jupyter-button {\n",
       "                    --jp-layout-color3: #383838;\n",
       "                }\n",
       "\n",
       "                .geemap-colab {\n",
       "                    background-color: var(--colab-primary-surface-color, white);\n",
       "                }\n",
       "\n",
       "                .geemap-colab .jupyter-button {\n",
       "                    --jp-layout-color3: var(--colab-primary-surface-color, white);\n",
       "                }\n",
       "            </style>\n",
       "            "
      ],
      "text/plain": [
       "<IPython.core.display.HTML object>"
      ]
     },
     "metadata": {},
     "output_type": "display_data"
    }
   ],
   "source": [
    "# or alternatively use the following predefined rectangle\n",
    "# region = ee.Geometry.Polygon(\n",
    "# [[[6.815664, 52.17028],\n",
    "#   [6.815664, 52.25884],\n",
    "#   [6.969804, 52.25884],\n",
    "#   [6.969804, 52.17028],\n",
    "#   [6.815664, 52.17028]]]\n",
    "# )\n",
    "\n",
    "region = ee.Geometry.Polygon([[[-74.446793, 4.94355],\n",
    "  [-74.446793, 4.972795],\n",
    "  [-74.414692, 4.972795],\n",
    "  [-74.414692, 4.94355],\n",
    "  [-74.446793, 4.94355]]])"
   ]
  },
  {
   "cell_type": "markdown",
   "id": "1e33ad84-6beb-4c12-85fb-e924f6221003",
   "metadata": {},
   "source": [
    "Now it's the time to gather the Sentinel 2 images of this region. To know how to gather an specific data you can always check the [GEE data catalogue](https://developers.google.com/earth-engine/datasets). For example, according to the [Sentinel 2 satellite images catalogue ](https://developers.google.com/earth-engine/datasets/catalog/COPERNICUS_S2_SR_HARMONIZED), we can access these images using the \"ee.ImageCollection(\"COPERNICUS/S2_SR_HARMONIZED\")\" snippet."
   ]
  },
  {
   "cell_type": "markdown",
   "id": "14affd7c-f8ff-41aa-93f2-e123495ab15e",
   "metadata": {},
   "source": [
    "Now let's find a recent [Sentinel 2 Multispectral satellite image](https://developers.google.com/earth-engine/datasets/catalog/COPERNICUS_S2_SR_HARMONIZED) that covers the selected region during the last summer. Let's consider all the images with less than 10% cloud coverage. We don't want very cloudy images!"
   ]
  },
  {
   "cell_type": "code",
   "execution_count": 11,
   "id": "6c4bd949-964a-428b-a27d-fc0f67634aec",
   "metadata": {},
   "outputs": [
    {
     "data": {
      "text/html": [
       "\n",
       "            <style>\n",
       "                .geemap-dark {\n",
       "                    --jp-widgets-color: white;\n",
       "                    --jp-widgets-label-color: white;\n",
       "                    --jp-ui-font-color1: white;\n",
       "                    --jp-layout-color2: #454545;\n",
       "                    background-color: #383838;\n",
       "                }\n",
       "\n",
       "                .geemap-dark .jupyter-button {\n",
       "                    --jp-layout-color3: #383838;\n",
       "                }\n",
       "\n",
       "                .geemap-colab {\n",
       "                    background-color: var(--colab-primary-surface-color, white);\n",
       "                }\n",
       "\n",
       "                .geemap-colab .jupyter-button {\n",
       "                    --jp-layout-color3: var(--colab-primary-surface-color, white);\n",
       "                }\n",
       "            </style>\n",
       "            "
      ],
      "text/plain": [
       "<IPython.core.display.HTML object>"
      ]
     },
     "metadata": {},
     "output_type": "display_data"
    }
   ],
   "source": [
    "myCollection = ee.ImageCollection('COPERNICUS/S2_SR_HARMONIZED') \\\n",
    "    .filterBounds(region) \\\n",
    "    .filterDate('2023-06-01', '2023-08-30') \\\n",
    "    .filterMetadata('CLOUDY_PIXEL_PERCENTAGE', 'less_than', 10)"
   ]
  },
  {
   "cell_type": "code",
   "execution_count": 12,
   "id": "06144274-21ba-4e3f-8190-f373b4257782",
   "metadata": {},
   "outputs": [
    {
     "data": {
      "text/html": [
       "\n",
       "            <style>\n",
       "                .geemap-dark {\n",
       "                    --jp-widgets-color: white;\n",
       "                    --jp-widgets-label-color: white;\n",
       "                    --jp-ui-font-color1: white;\n",
       "                    --jp-layout-color2: #454545;\n",
       "                    background-color: #383838;\n",
       "                }\n",
       "\n",
       "                .geemap-dark .jupyter-button {\n",
       "                    --jp-layout-color3: #383838;\n",
       "                }\n",
       "\n",
       "                .geemap-colab {\n",
       "                    background-color: var(--colab-primary-surface-color, white);\n",
       "                }\n",
       "\n",
       "                .geemap-colab .jupyter-button {\n",
       "                    --jp-layout-color3: var(--colab-primary-surface-color, white);\n",
       "                }\n",
       "            </style>\n",
       "            "
      ],
      "text/plain": [
       "<IPython.core.display.HTML object>"
      ]
     },
     "metadata": {},
     "output_type": "display_data"
    },
    {
     "name": "stdout",
     "output_type": "stream",
     "text": [
      "Number of images in the collection:  1\n"
     ]
    }
   ],
   "source": [
    "listOfImages = myCollection.aggregate_array('system:index').getInfo()\n",
    "print('Number of images in the collection: ', len(listOfImages))"
   ]
  },
  {
   "cell_type": "markdown",
   "id": "b0e1ca14-1ab1-4d78-9c03-de6c74b6047c",
   "metadata": {},
   "source": [
    "The first image and clip to the region and visualize it on the map.\n",
    "\n",
    "Often, we don't need a whole image for furthur analysis. We can simply crop an image and select a smaller part of an image for the region of interest. You can use [Clip](https://developers.google.com/earth-engine/apidocs/ee-image-clip) to a Geometry or Feature for selecting part of an image. The output bands correspond exactly to the input bands, except data not covered by the geometry is masked. The output image retains the metadata of the input image."
   ]
  },
  {
   "cell_type": "code",
   "execution_count": 13,
   "id": "508839a7-5fcf-43d4-9a0f-743dfa3aeef3",
   "metadata": {},
   "outputs": [
    {
     "data": {
      "text/html": [
       "\n",
       "            <style>\n",
       "                .geemap-dark {\n",
       "                    --jp-widgets-color: white;\n",
       "                    --jp-widgets-label-color: white;\n",
       "                    --jp-ui-font-color1: white;\n",
       "                    --jp-layout-color2: #454545;\n",
       "                    background-color: #383838;\n",
       "                }\n",
       "\n",
       "                .geemap-dark .jupyter-button {\n",
       "                    --jp-layout-color3: #383838;\n",
       "                }\n",
       "\n",
       "                .geemap-colab {\n",
       "                    background-color: var(--colab-primary-surface-color, white);\n",
       "                }\n",
       "\n",
       "                .geemap-colab .jupyter-button {\n",
       "                    --jp-layout-color3: var(--colab-primary-surface-color, white);\n",
       "                }\n",
       "            </style>\n",
       "            "
      ],
      "text/plain": [
       "<IPython.core.display.HTML object>"
      ]
     },
     "metadata": {},
     "output_type": "display_data"
    }
   ],
   "source": [
    "img1 = myCollection.first().clip(region)"
   ]
  },
  {
   "cell_type": "code",
   "execution_count": 14,
   "id": "aebbe9b8-8f5d-40b6-8efe-5c481912d07b",
   "metadata": {},
   "outputs": [
    {
     "data": {
      "text/html": [
       "\n",
       "            <style>\n",
       "                .geemap-dark {\n",
       "                    --jp-widgets-color: white;\n",
       "                    --jp-widgets-label-color: white;\n",
       "                    --jp-ui-font-color1: white;\n",
       "                    --jp-layout-color2: #454545;\n",
       "                    background-color: #383838;\n",
       "                }\n",
       "\n",
       "                .geemap-dark .jupyter-button {\n",
       "                    --jp-layout-color3: #383838;\n",
       "                }\n",
       "\n",
       "                .geemap-colab {\n",
       "                    background-color: var(--colab-primary-surface-color, white);\n",
       "                }\n",
       "\n",
       "                .geemap-colab .jupyter-button {\n",
       "                    --jp-layout-color3: var(--colab-primary-surface-color, white);\n",
       "                }\n",
       "            </style>\n",
       "            "
      ],
      "text/plain": [
       "<IPython.core.display.HTML object>"
      ]
     },
     "metadata": {},
     "output_type": "display_data"
    }
   ],
   "source": [
    "# Some visualization parameters: \n",
    "# - Values to map to 0 and values to map to 255. \n",
    "# - Three bands to be combined as an rgb image\n",
    "\n",
    "# You can try changing these parameters and check the result!\n",
    "\n",
    "# Min and max are based on reflectance\n",
    "# Below x displayed as black\n",
    "# above x displayed as white\n",
    "# b4 = red, b3, green, b2 blue\n",
    "\n",
    "vis_params = {\"min\": 300, \n",
    "              \"max\": 1000, \n",
    "              \"bands\": [\"B4\", \"B3\", \"B2\"]}  \n"
   ]
  },
  {
   "cell_type": "code",
   "execution_count": 15,
   "id": "1e96f1c1-ceaf-46bb-b8b1-304658734974",
   "metadata": {},
   "outputs": [
    {
     "data": {
      "text/html": [
       "\n",
       "            <style>\n",
       "                .geemap-dark {\n",
       "                    --jp-widgets-color: white;\n",
       "                    --jp-widgets-label-color: white;\n",
       "                    --jp-ui-font-color1: white;\n",
       "                    --jp-layout-color2: #454545;\n",
       "                    background-color: #383838;\n",
       "                }\n",
       "\n",
       "                .geemap-dark .jupyter-button {\n",
       "                    --jp-layout-color3: #383838;\n",
       "                }\n",
       "\n",
       "                .geemap-colab {\n",
       "                    background-color: var(--colab-primary-surface-color, white);\n",
       "                }\n",
       "\n",
       "                .geemap-colab .jupyter-button {\n",
       "                    --jp-layout-color3: var(--colab-primary-surface-color, white);\n",
       "                }\n",
       "            </style>\n",
       "            "
      ],
      "text/plain": [
       "<IPython.core.display.HTML object>"
      ]
     },
     "metadata": {},
     "output_type": "display_data"
    },
    {
     "data": {
      "application/vnd.jupyter.widget-view+json": {
       "model_id": "87d8365023ca4b0289dd564890e30a96",
       "version_major": 2,
       "version_minor": 0
      },
      "text/plain": [
       "Map(center=[0, 0], controls=(WidgetControl(options=['position', 'transparent_bg'], widget=SearchDataGUI(childr…"
      ]
     },
     "execution_count": 15,
     "metadata": {},
     "output_type": "execute_result"
    }
   ],
   "source": [
    "Map2 = geemap.Map()\n",
    "Map2.addLayer(img1, vis_params, \"FirstImage\", True) \n",
    "Map2"
   ]
  },
  {
   "cell_type": "markdown",
   "id": "d0c79833-ba34-48e1-9ecf-8d21292d5948",
   "metadata": {},
   "source": [
    "Scroll and zoom to find the image!"
   ]
  },
  {
   "cell_type": "markdown",
   "id": "611ef382-eb0d-4bb3-83dc-54ce47c061ad",
   "metadata": {},
   "source": [
    "We can reduce an image collection by calculating the median of all values at each pixel across the stack of all matching bands."
   ]
  },
  {
   "cell_type": "code",
   "execution_count": 16,
   "id": "34e8f3d4-cae0-4f9c-8b6a-6d729df6bf44",
   "metadata": {},
   "outputs": [
    {
     "data": {
      "text/html": [
       "\n",
       "            <style>\n",
       "                .geemap-dark {\n",
       "                    --jp-widgets-color: white;\n",
       "                    --jp-widgets-label-color: white;\n",
       "                    --jp-ui-font-color1: white;\n",
       "                    --jp-layout-color2: #454545;\n",
       "                    background-color: #383838;\n",
       "                }\n",
       "\n",
       "                .geemap-dark .jupyter-button {\n",
       "                    --jp-layout-color3: #383838;\n",
       "                }\n",
       "\n",
       "                .geemap-colab {\n",
       "                    background-color: var(--colab-primary-surface-color, white);\n",
       "                }\n",
       "\n",
       "                .geemap-colab .jupyter-button {\n",
       "                    --jp-layout-color3: var(--colab-primary-surface-color, white);\n",
       "                }\n",
       "            </style>\n",
       "            "
      ],
      "text/plain": [
       "<IPython.core.display.HTML object>"
      ]
     },
     "metadata": {},
     "output_type": "display_data"
    },
    {
     "data": {
      "application/vnd.jupyter.widget-view+json": {
       "model_id": "87d8365023ca4b0289dd564890e30a96",
       "version_major": 2,
       "version_minor": 0
      },
      "text/plain": [
       "Map(bottom=2039725.0, center=[4.94858422927294, -74.4221591949463], controls=(WidgetControl(options=['position…"
      ]
     },
     "execution_count": 16,
     "metadata": {},
     "output_type": "execute_result"
    }
   ],
   "source": [
    "img2 = myCollection.median().clip(region)\n",
    "Map2.addLayer(img2, vis_params, \"MedianImage\", True) \n",
    "Map2"
   ]
  },
  {
   "cell_type": "markdown",
   "id": "a83d524f-5238-43d7-9dc6-369ee58229a4",
   "metadata": {},
   "source": [
    "## Exporting the Data\n",
    "\n",
    "For exporting data out of GEE we suggest to use the [geemap python package tools](https://geemap.org/notebooks/11_export_image/#download-an-eeimage)."
   ]
  },
  {
   "cell_type": "code",
   "execution_count": 17,
   "id": "ec5021de-13fc-458b-ae35-2b9c72e7c029",
   "metadata": {},
   "outputs": [
    {
     "data": {
      "text/html": [
       "\n",
       "            <style>\n",
       "                .geemap-dark {\n",
       "                    --jp-widgets-color: white;\n",
       "                    --jp-widgets-label-color: white;\n",
       "                    --jp-ui-font-color1: white;\n",
       "                    --jp-layout-color2: #454545;\n",
       "                    background-color: #383838;\n",
       "                }\n",
       "\n",
       "                .geemap-dark .jupyter-button {\n",
       "                    --jp-layout-color3: #383838;\n",
       "                }\n",
       "\n",
       "                .geemap-colab {\n",
       "                    background-color: var(--colab-primary-surface-color, white);\n",
       "                }\n",
       "\n",
       "                .geemap-colab .jupyter-button {\n",
       "                    --jp-layout-color3: var(--colab-primary-surface-color, white);\n",
       "                }\n",
       "            </style>\n",
       "            "
      ],
      "text/plain": [
       "<IPython.core.display.HTML object>"
      ]
     },
     "metadata": {},
     "output_type": "display_data"
    }
   ],
   "source": [
    "# Let's first import some needed libraries\n",
    "import os\n",
    "import rasterio\n",
    "import numpy as np\n",
    "import matplotlib.pyplot as plt"
   ]
  },
  {
   "cell_type": "code",
   "execution_count": 18,
   "id": "a78385ee-7afa-456c-a89d-4c2e58913e1f",
   "metadata": {},
   "outputs": [
    {
     "data": {
      "text/html": [
       "\n",
       "            <style>\n",
       "                .geemap-dark {\n",
       "                    --jp-widgets-color: white;\n",
       "                    --jp-widgets-label-color: white;\n",
       "                    --jp-ui-font-color1: white;\n",
       "                    --jp-layout-color2: #454545;\n",
       "                    background-color: #383838;\n",
       "                }\n",
       "\n",
       "                .geemap-dark .jupyter-button {\n",
       "                    --jp-layout-color3: #383838;\n",
       "                }\n",
       "\n",
       "                .geemap-colab {\n",
       "                    background-color: var(--colab-primary-surface-color, white);\n",
       "                }\n",
       "\n",
       "                .geemap-colab .jupyter-button {\n",
       "                    --jp-layout-color3: var(--colab-primary-surface-color, white);\n",
       "                }\n",
       "            </style>\n",
       "            "
      ],
      "text/plain": [
       "<IPython.core.display.HTML object>"
      ]
     },
     "metadata": {},
     "output_type": "display_data"
    }
   ],
   "source": [
    "# let's create a Downloads folder and define a name for the data.\n",
    "\n",
    "out_dir = os.path.join(os.path.expanduser('~'), 'Downloads')\n",
    "filename = os.path.join(out_dir, 'Enschede.tif')"
   ]
  },
  {
   "cell_type": "code",
   "execution_count": 19,
   "id": "5f46ba0c-e691-486f-a42d-a506a00ab16e",
   "metadata": {},
   "outputs": [
    {
     "data": {
      "text/html": [
       "\n",
       "            <style>\n",
       "                .geemap-dark {\n",
       "                    --jp-widgets-color: white;\n",
       "                    --jp-widgets-label-color: white;\n",
       "                    --jp-ui-font-color1: white;\n",
       "                    --jp-layout-color2: #454545;\n",
       "                    background-color: #383838;\n",
       "                }\n",
       "\n",
       "                .geemap-dark .jupyter-button {\n",
       "                    --jp-layout-color3: #383838;\n",
       "                }\n",
       "\n",
       "                .geemap-colab {\n",
       "                    background-color: var(--colab-primary-surface-color, white);\n",
       "                }\n",
       "\n",
       "                .geemap-colab .jupyter-button {\n",
       "                    --jp-layout-color3: var(--colab-primary-surface-color, white);\n",
       "                }\n",
       "            </style>\n",
       "            "
      ],
      "text/plain": [
       "<IPython.core.display.HTML object>"
      ]
     },
     "metadata": {},
     "output_type": "display_data"
    },
    {
     "name": "stdout",
     "output_type": "stream",
     "text": [
      "Generating URL ...\n",
      "Downloading data from https://earthengine.googleapis.com/v1/projects/120635359908/thumbnails/7b797df26df55b597d8f12700423895f-8006132e559ebb77b286edd07178e971:getPixels\n",
      "Please wait ...\n",
      "Data downloaded to C:\\Users\\danie\\Downloads\\Enschede.tif\n"
     ]
    }
   ],
   "source": [
    "# Exporting all bands as one single image\n",
    "# By \"file_per_band=True\" you can export each band as one image\n",
    "# With the \"scale\" parameter you can change the spatial resolution of the exported image. \n",
    "# Higher spatial resolution (lower scale) leads to longer downloading time.\n",
    "\n",
    "geemap.ee_export_image(\n",
    "    img2, filename=filename, scale=30, region=region, file_per_band=False\n",
    ")"
   ]
  },
  {
   "cell_type": "markdown",
   "id": "41fb4172-ef48-4ca7-af5c-e11e45825e19",
   "metadata": {},
   "source": [
    "\n",
    "Now let's check if the data has been downloaded. Remember that we can open the image (raster data) using rasterio and visualize it."
   ]
  },
  {
   "cell_type": "code",
   "execution_count": 20,
   "id": "1996ac7f-b0df-4e24-9029-8a79e3fcdd37",
   "metadata": {},
   "outputs": [
    {
     "data": {
      "text/html": [
       "\n",
       "            <style>\n",
       "                .geemap-dark {\n",
       "                    --jp-widgets-color: white;\n",
       "                    --jp-widgets-label-color: white;\n",
       "                    --jp-ui-font-color1: white;\n",
       "                    --jp-layout-color2: #454545;\n",
       "                    background-color: #383838;\n",
       "                }\n",
       "\n",
       "                .geemap-dark .jupyter-button {\n",
       "                    --jp-layout-color3: #383838;\n",
       "                }\n",
       "\n",
       "                .geemap-colab {\n",
       "                    background-color: var(--colab-primary-surface-color, white);\n",
       "                }\n",
       "\n",
       "                .geemap-colab .jupyter-button {\n",
       "                    --jp-layout-color3: var(--colab-primary-surface-color, white);\n",
       "                }\n",
       "            </style>\n",
       "            "
      ],
      "text/plain": [
       "<IPython.core.display.HTML object>"
      ]
     },
     "metadata": {},
     "output_type": "display_data"
    },
    {
     "name": "stdout",
     "output_type": "stream",
     "text": [
      "(110, 120, 12)\n"
     ]
    }
   ],
   "source": [
    "with rasterio.open(filename, 'r') as ds:\n",
    "    img = ds.read()  # read all raster values\n",
    "\n",
    "img = img[0:12,:,:] # 12 spectral bands\n",
    "img = np.transpose(img, [1, 2, 0]) # numpy array [row, col, bands]\n",
    "print(img.shape)  \n"
   ]
  },
  {
   "cell_type": "code",
   "execution_count": 21,
   "id": "2aa7aab7-b341-4e2b-ac19-1a3466109dc1",
   "metadata": {},
   "outputs": [
    {
     "data": {
      "text/html": [
       "\n",
       "            <style>\n",
       "                .geemap-dark {\n",
       "                    --jp-widgets-color: white;\n",
       "                    --jp-widgets-label-color: white;\n",
       "                    --jp-ui-font-color1: white;\n",
       "                    --jp-layout-color2: #454545;\n",
       "                    background-color: #383838;\n",
       "                }\n",
       "\n",
       "                .geemap-dark .jupyter-button {\n",
       "                    --jp-layout-color3: #383838;\n",
       "                }\n",
       "\n",
       "                .geemap-colab {\n",
       "                    background-color: var(--colab-primary-surface-color, white);\n",
       "                }\n",
       "\n",
       "                .geemap-colab .jupyter-button {\n",
       "                    --jp-layout-color3: var(--colab-primary-surface-color, white);\n",
       "                }\n",
       "            </style>\n",
       "            "
      ],
      "text/plain": [
       "<IPython.core.display.HTML object>"
      ]
     },
     "metadata": {},
     "output_type": "display_data"
    },
    {
     "name": "stdout",
     "output_type": "stream",
     "text": [
      "(110, 120, 3)\n"
     ]
    }
   ],
   "source": [
    "# B2-->Blue\n",
    "# B3-->Green\n",
    "# B4-->Red\n",
    "\n",
    "# remember the indexes in NumPy arrays start with 0 --> bands begin from 0!\n",
    "\n",
    "img_rgb = img[:,:,[3,2,1]]\n",
    "print(img_rgb.shape)"
   ]
  },
  {
   "cell_type": "code",
   "execution_count": 22,
   "id": "4204bba5-de0e-49ed-b499-07e9ea98d17a",
   "metadata": {},
   "outputs": [
    {
     "data": {
      "text/html": [
       "\n",
       "            <style>\n",
       "                .geemap-dark {\n",
       "                    --jp-widgets-color: white;\n",
       "                    --jp-widgets-label-color: white;\n",
       "                    --jp-ui-font-color1: white;\n",
       "                    --jp-layout-color2: #454545;\n",
       "                    background-color: #383838;\n",
       "                }\n",
       "\n",
       "                .geemap-dark .jupyter-button {\n",
       "                    --jp-layout-color3: #383838;\n",
       "                }\n",
       "\n",
       "                .geemap-colab {\n",
       "                    background-color: var(--colab-primary-surface-color, white);\n",
       "                }\n",
       "\n",
       "                .geemap-colab .jupyter-button {\n",
       "                    --jp-layout-color3: var(--colab-primary-surface-color, white);\n",
       "                }\n",
       "            </style>\n",
       "            "
      ],
      "text/plain": [
       "<IPython.core.display.HTML object>"
      ]
     },
     "metadata": {},
     "output_type": "display_data"
    },
    {
     "name": "stderr",
     "output_type": "stream",
     "text": [
      "Clipping input data to the valid range for imshow with RGB data ([0..1] for floats or [0..255] for integers). Got range [0.0..5.0].\n"
     ]
    },
    {
     "data": {
      "text/plain": [
       "<matplotlib.image.AxesImage at 0x1df58520510>"
      ]
     },
     "execution_count": 22,
     "metadata": {},
     "output_type": "execute_result"
    },
    {
     "data": {
      "image/png": "[encoded data removed]",
      "text/plain": [
       "<Figure size 640x480 with 1 Axes>"
      ]
     },
     "metadata": {},
     "output_type": "display_data"
    }
   ],
   "source": [
    "# This function normalizes each rgb band and helps you to have a better visualization.\n",
    "\n",
    "def MyNormalize(img_i,sigma):\n",
    "    nr,nc,nb = img_i.shape\n",
    "    img_n = np.zeros(shape=(nr,nc,nb))\n",
    "    for i in range(0,nb):\n",
    "        one_band = img_i[:,:,i]\n",
    "        mi = np.min(one_band)\n",
    "        ma = np.max(one_band)\n",
    "        one_band = (one_band-mi)/(ma-mi+np.finfo(float).eps)\n",
    "        img_n[:,:,i] = sigma*one_band\n",
    "    return img_n\n",
    "\n",
    "plt.imshow(MyNormalize(img_rgb,5))"
   ]
  },
  {
   "cell_type": "markdown",
   "id": "91841dcb-619e-448b-8b8a-6840bbc9ddae",
   "metadata": {},
   "source": [
    "You can also export an image to Google Drive using the following line of code. This could be useful for example for big images. Moreover, you can download an image collection using geemap tools. See [this tutorial](https://geemap.org/notebooks/11_export_image/#exporting-all-bands-as-one-single-image) for more details."
   ]
  },
  {
   "cell_type": "code",
   "execution_count": null,
   "id": "4896bc4d-747b-4ead-b8ec-fd3f5e66790c",
   "metadata": {},
   "outputs": [],
   "source": [
    "geemap.ee_export_image_to_drive(\n",
    "    img2, description=filename, folder=\"export\", region=region, scale=30\n",
    ")"
   ]
  }
 ],
 "metadata": {
  "kernelspec": {
   "display_name": "Python 3 (ipykernel)",
   "language": "python",
   "name": "python3"
  },
  "language_info": {
   "codemirror_mode": {
    "name": "ipython",
    "version": 3
   },
   "file_extension": ".py",
   "mimetype": "text/x-python",
   "name": "python",
   "nbconvert_exporter": "python",
   "pygments_lexer": "ipython3",
   "version": "3.11.2"
  }
 },
 "nbformat": 4,
 "nbformat_minor": 5
}
